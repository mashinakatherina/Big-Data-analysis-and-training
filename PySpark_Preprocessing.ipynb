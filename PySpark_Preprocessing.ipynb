{
  "nbformat": 4,
  "nbformat_minor": 0,
  "metadata": {
    "colab": {
      "provenance": [],
      "include_colab_link": true
    },
    "kernelspec": {
      "name": "python3",
      "display_name": "Python 3"
    },
    "language_info": {
      "name": "python"
    }
  },
  "cells": [
    {
      "cell_type": "markdown",
      "metadata": {
        "id": "view-in-github",
        "colab_type": "text"
      },
      "source": [
        "<a href=\"https://colab.research.google.com/github/mashinakatherina/Big-Data-analysis-and-training/blob/trunk/PySpark_Preprocessing.ipynb\" target=\"_parent\"><img src=\"https://colab.research.google.com/assets/colab-badge.svg\" alt=\"Open In Colab\"/></a>"
      ]
    },
    {
      "cell_type": "markdown",
      "source": [
        "# Apache Spark и PySpark\n",
        "*Apache Spark* был создан для быстрого анализа больших данных. Одной из важных функций, которые предлагает Apache Spark, является возможность выполнять вычисления в памяти. Он также считается более эффективным по сравнению с *MapReduce* для сложных приложений, работающих на Диске.\n",
        "\n",
        "Spark обеспечивает высокую доступность, предлагая простые API-интерфейсы на Python, Java, Scala и SQL, а также богатые встроенные библиотеки. Он также тесно интегрируется с другими инструментами больших данных. В частности, Spark может работать в кластерах Hadoop и получать доступ к любому источнику данных Hadoop, включая Cassandra.\n",
        "\n",
        "*PySpark* - это интерфейс, обеспечивающий доступ к Spark с помощью языка программирования Python. PySpark может использоваться для распределенных вычислений на Python в рамках анализа и обработки больших данных, а также машинного обучения.<br/>\n",
        "PySpark взаимодействует с самим Spark через специальную библиотеку [Py4J](https://www.py4j.org/). Она позволяет программам Python, которые выполняются интерпретатором, динамически обращаться к объектам Java в JVM, транслируя код Scala в JVM. Для большей совместимости PySpark поддерживает парадигму функционального программирования, т.к., во-первых, язык Scala является функциональным, во-вторых, функциональный код намного проще распараллелить. Таким образом, PySpark позволяет проводить параллельную обработку без необходимости использования каких-либо модулей Python для потоковой или многопроцессорной обработки. Вся сложная коммуникация и синхронизация между потоками, процессами и даже разными CPU обрабатываются в Spark."
      ],
      "metadata": {
        "id": "D8YV3LEVFhpc"
      }
    },
    {
      "cell_type": "markdown",
      "source": [
        "Чтобы запустить Spark в Google Colab, сначала необходимо установить все зависимости, такие как Apache Spark с Hadoop и платформу Java. В качестве платформы Java можно взять свободный JDK (Java development kit), актуальны версии 8+. Ссылка для скачивания Apache Spark доступна на главной странице [Apache Software Foundation](https://www.apache.org/) на вкладке Downloads. Скачанный архив нужно разархивировать командой `tar`. Установка инструментов может быть выполнена внутри Jupyter Notebook в Colab."
      ],
      "metadata": {
        "id": "GZqHb096dxao"
      }
    },
    {
      "cell_type": "code",
      "execution_count": null,
      "metadata": {
        "id": "XjlyaL3QFc-3"
      },
      "outputs": [],
      "source": [
        "!apt-get install openjdk-11-jdk-headless -qq > /dev/null\n",
        "!wget -q https://downloads.apache.org/spark/spark-3.3.0/spark-3.3.0-bin-hadoop3.tgz\n",
        "!tar xf spark-3.3.0-bin-hadoop3.tgz"
      ]
    },
    {
      "cell_type": "markdown",
      "source": [
        "После этого в окружение среды нужно указать пути *JAVA_HOME* и *SPARK_HOME* на скачанные программы. Поскольку Spark загружен напрямую, он находится в директории *content*. Воспользуемся модулем `os`, который предоставляет интерфейс для взаимодействия с файловой системой."
      ],
      "metadata": {
        "id": "1j08Aku5vIq1"
      }
    },
    {
      "cell_type": "code",
      "source": [
        "import os\n",
        "os.environ[\"JAVA_HOME\"] = \"/usr/lib/jvm/java-11-openjdk-amd64\"\n",
        "os.environ[\"SPARK_HOME\"] = \"/content/spark-3.3.0-bin-hadoop3\""
      ],
      "metadata": {
        "id": "dHpmTv12v9Uy"
      },
      "execution_count": null,
      "outputs": []
    },
    {
      "cell_type": "markdown",
      "source": [
        "Чтобы использовать PySpark как обычную Python-библиотеку, дополнительно необходимо установить `findspark`:"
      ],
      "metadata": {
        "id": "WbeF0mttv9Fj"
      }
    },
    {
      "cell_type": "code",
      "source": [
        "!pip install findspark"
      ],
      "metadata": {
        "colab": {
          "base_uri": "https://localhost:8080/"
        },
        "id": "DV-RbPsO0nbs",
        "outputId": "2f76a4b7-dd3c-49eb-bf11-73df1e0dae0d"
      },
      "execution_count": null,
      "outputs": [
        {
          "output_type": "stream",
          "name": "stdout",
          "text": [
            "Looking in indexes: https://pypi.org/simple, https://us-python.pkg.dev/colab-wheels/public/simple/\n",
            "Collecting findspark\n",
            "  Downloading findspark-2.0.1-py2.py3-none-any.whl (4.4 kB)\n",
            "Installing collected packages: findspark\n",
            "Successfully installed findspark-2.0.1\n"
          ]
        }
      ]
    },
    {
      "cell_type": "markdown",
      "source": [
        "Далее необходимо проинициализировать PySpark. Для этого вызывается метод `findspark.init()`, затем создаётся точка входа кластера. Для этого, в первую очередь, Spark создает S*parkContext* — объект, который определяет, как получить доступ к кластеру в момент выполнения программы. Также через *SparkConf* определяются параметры конфигурации. К ним может относиться кластерный менеджер (master), с которым соединяется приложение через URL (т.е. каким образом следует подключиться — локально, к Kubernates или YARN и т.д.), название приложения, количество выделяемых ядер и т.д. (с полным списком можно ознакомиться в [документации](https://spark.apache.org/docs/latest/configuration.html)). Начиная со Spark 2.0, единой точкой входа в Spark-приложение является *SparkSession*, что устраняет необходимость явно создавать *SparkConf* и *SparkContext*, поскольку они инкапсулируются в *SparkSession*. Все функции, которые были доступны в *SparkContext*, доступны и в *SparkSession*."
      ],
      "metadata": {
        "id": "BXKbUNFe03Jy"
      }
    },
    {
      "cell_type": "code",
      "source": [
        "import findspark \n",
        "findspark.init() \n",
        "from pyspark.sql import SparkSession\n",
        "spark = SparkSession.builder.master(\"local[*]\").getOrCreate()"
      ],
      "metadata": {
        "id": "kbkVE7t11DaJ"
      },
      "execution_count": null,
      "outputs": []
    },
    {
      "cell_type": "markdown",
      "source": [
        "Теперь Colab готов запускать PySpark."
      ],
      "metadata": {
        "id": "OwUrVmSO1zr1"
      }
    },
    {
      "cell_type": "markdown",
      "source": [
        "#Pandas и PySpark\n",
        "\n",
        "Интерфейс *PySpark* во многом похож на интерфейс *Pandas*. В частности, оба используют DataFrame для представления табличных данных, отсюда следует использование множества схожих методов. При разных названиях, они также пересекаются с операциями SQL, например, методы `distinct`, `where` в PySpark соответствуют методам `unique`, `filter` в Pandas.<br/>\n",
        "Главное отличие между PySpark и Pandas состоит в режиме выполнения. PySpark реализует *lazy execution* (ленивое выполнение), в то время как Pandas — *eager execution* (мгновенное выполнение). Например, требуется загрузить данные на диске и применить к ним операции трансформации (map). Pandas выполнит их тут же. PySpark же сохранит всю последовательность необходимых операций и выполнит их в том случае, когда данные понадобятся.<br/>\n",
        "Существует возможность довольно просто перейти от PySpark к Pandas и наоборот:\n",
        "```\n",
        "# Из Pandas в PySpark \n",
        "spark_df = spark.createDataFrame(pandasDF)\n",
        "\n",
        "# Из PySpark в Pandas \n",
        "pandasDF = spark_df.toPandas()\n",
        "```\n",
        "\n",
        "\n"
      ],
      "metadata": {
        "id": "QMYA17r_9Zm_"
      }
    },
    {
      "cell_type": "markdown",
      "source": [
        "#Доступные в PySpark форматы для чтения и записи\n",
        "PySpark поддерживает такие основные форматы, как CSV, JSON, ORC, Parquet. \n",
        "Ниже приведены примеры синтаксиса чтения и записи, который практически одинаков для всех форматов.<br/>\n",
        "\n",
        "*   CSV (Comma-separated values, значения, разделенные запятыми) — наиболее часто используемый формат для хранения датасетов: \n",
        "```\n",
        "data = spark.read.csv(“file.csv”) # прочитать\n",
        "data.write.csv(”file_dir”, sep=',') # записать\n",
        "```\n",
        "\n",
        "\n",
        "\n",
        "\n"
      ],
      "metadata": {
        "id": "xkrIxrKDKesT"
      }
    },
    {
      "cell_type": "markdown",
      "source": [
        "*  JSON (JavaScript Object Notation) применяется для сериализации данных, используется также в MongoDB: \n",
        "```\n",
        "data = spark.read.json(“file.json”)\n",
        "data.write.json(”file_dir”)\n",
        "```\n",
        "*  ORC (Optimized Row Columnar) — формат хранения данных экосистем Apache Hadoop: \n",
        "```\n",
        "data = spark.read.orc(“orc_file”)\n",
        "data.write.orc()\n",
        "```\n",
        "*   Parquet- еще один формат экосистем Apache Hadoop, который может изменяться в соответствии с изменением данных, а также поддерживает слияние схем: \n",
        "```\n",
        "data = spark.read.parquet(“parquet_file”)\n",
        "data.write.parquet(”file_dir”)\n",
        "```\n",
        "PySpark также поддерживает функциональный стиль программирования. Например, чтение CSV-файла в этом случае будет выглядеть следующим образом:\n",
        "```\n",
        "data = spark.read \\\n",
        "    .format(“json”) \\\n",
        "    .load(“file.json”) \\\n",
        "    .option(\"header\", True)\n",
        "```\n",
        "\n",
        "\n",
        "\n",
        "\n",
        "\n",
        "\n",
        "\n",
        "\n",
        "\n",
        "\n",
        "\n"
      ],
      "metadata": {
        "id": "Ucb_JsEhGcEa"
      }
    },
    {
      "cell_type": "code",
      "source": [
        "# Загрузка данных в Spark DataFrame\n",
        "# df = spark.read.option('header', True).csv(\"daily_weather.csv\")\n",
        "df = spark.read.load(\"daily_weather.csv\", \n",
        "                      format='com.databricks.spark.csv', \n",
        "                      header='true',inferSchema='true') # третий аргумент указывает, что первая строка является заголовком, четвертый аргумент указывает на вывод типов данных"
      ],
      "metadata": {
        "id": "cjbPE_xXI6oP"
      },
      "execution_count": null,
      "outputs": []
    },
    {
      "cell_type": "markdown",
      "source": [
        "В pyspark датафреймы подсчитываются лениво. При запуске команды pyspark не прозводит вычисления сразу, а лишь планирует их на будущее. Все запланированные вычисления производятся, когда данные действительно понадобятся, при запуске команд-действий, таких как collect(), take() и др."
      ],
      "metadata": {
        "id": "5pGBMRbtNb3o"
      }
    },
    {
      "cell_type": "code",
      "source": [
        "df.show()"
      ],
      "metadata": {
        "id": "wnWqVd8YOwAM"
      },
      "execution_count": null,
      "outputs": []
    },
    {
      "cell_type": "code",
      "source": [
        "df.columns # просмотреть столбцы"
      ],
      "metadata": {
        "colab": {
          "base_uri": "https://localhost:8080/"
        },
        "id": "8yyLofSVNn29",
        "outputId": "bb470511-3d62-4457-d386-773e3b35323d"
      },
      "execution_count": null,
      "outputs": [
        {
          "output_type": "execute_result",
          "data": {
            "text/plain": [
              "['number',\n",
              " 'air_pressure_9am',\n",
              " 'air_temp_9am',\n",
              " 'avg_wind_direction_9am',\n",
              " 'avg_wind_speed_9am',\n",
              " 'max_wind_direction_9am',\n",
              " 'max_wind_speed_9am',\n",
              " 'rain_accumulation_9am',\n",
              " 'rain_duration_9am',\n",
              " 'relative_humidity_9am',\n",
              " 'relative_humidity_3pm']"
            ]
          },
          "metadata": {},
          "execution_count": 12
        }
      ]
    },
    {
      "cell_type": "code",
      "source": [
        "df.printSchema() # вывод типов данных столбцов"
      ],
      "metadata": {
        "colab": {
          "base_uri": "https://localhost:8080/"
        },
        "id": "3l0nCft0OV51",
        "outputId": "605967dc-3a02-4e84-bf6e-c2d2b8bbd350"
      },
      "execution_count": null,
      "outputs": [
        {
          "output_type": "stream",
          "name": "stdout",
          "text": [
            "root\n",
            " |-- number: integer (nullable = true)\n",
            " |-- air_pressure_9am: double (nullable = true)\n",
            " |-- air_temp_9am: double (nullable = true)\n",
            " |-- avg_wind_direction_9am: double (nullable = true)\n",
            " |-- avg_wind_speed_9am: double (nullable = true)\n",
            " |-- max_wind_direction_9am: double (nullable = true)\n",
            " |-- max_wind_speed_9am: double (nullable = true)\n",
            " |-- rain_accumulation_9am: double (nullable = true)\n",
            " |-- rain_duration_9am: double (nullable = true)\n",
            " |-- relative_humidity_9am: double (nullable = true)\n",
            " |-- relative_humidity_3pm: double (nullable = true)\n",
            "\n"
          ]
        }
      ]
    },
    {
      "cell_type": "code",
      "source": [
        "df.describe().toPandas().transpose() # сводная статистика по датафрейму"
      ],
      "metadata": {
        "id": "xHqO0PWWOokE"
      },
      "execution_count": null,
      "outputs": []
    },
    {
      "cell_type": "code",
      "source": [
        "df.describe(['air_temp_9am']).show() # сводная статистика по отдельному столбцу"
      ],
      "metadata": {
        "colab": {
          "base_uri": "https://localhost:8080/"
        },
        "id": "m1XyZiW6O3bW",
        "outputId": "c5e331bb-31ea-4bc8-84b0-0ede9266020d"
      },
      "execution_count": null,
      "outputs": [
        {
          "output_type": "stream",
          "name": "stdout",
          "text": [
            "+-------+------------------+\n",
            "|summary|      air_temp_9am|\n",
            "+-------+------------------+\n",
            "|  count|              1090|\n",
            "|   mean| 64.93300141287072|\n",
            "| stddev|11.175514003175877|\n",
            "|    min|36.752000000000685|\n",
            "|    max| 98.90599999999992|\n",
            "+-------+------------------+\n",
            "\n"
          ]
        }
      ]
    },
    {
      "cell_type": "code",
      "source": [
        "len(df.columns) # количество столбцов "
      ],
      "metadata": {
        "colab": {
          "base_uri": "https://localhost:8080/"
        },
        "id": "Lkss07RpQFjQ",
        "outputId": "c079c791-8324-4c9d-894e-42c914f68ff6"
      },
      "execution_count": null,
      "outputs": [
        {
          "output_type": "execute_result",
          "data": {
            "text/plain": [
              "11"
            ]
          },
          "metadata": {},
          "execution_count": 15
        }
      ]
    },
    {
      "cell_type": "code",
      "source": [
        "df.count() # количество строк"
      ],
      "metadata": {
        "colab": {
          "base_uri": "https://localhost:8080/"
        },
        "id": "yH_TPxCzR14K",
        "outputId": "802b76e4-ad94-4165-9aad-1d905c69fd35"
      },
      "execution_count": null,
      "outputs": [
        {
          "output_type": "execute_result",
          "data": {
            "text/plain": [
              "1095"
            ]
          },
          "metadata": {},
          "execution_count": 16
        }
      ]
    },
    {
      "cell_type": "markdown",
      "source": [
        "Количество строк в датафрейме равно 1095, но сводная статистика по air_pressure_9am показывает, что в данном столбце всего 1090 строк. Это означает, что в данном столбце имеется 1095 - 1090 = 5 строк с пропущенными значениями."
      ],
      "metadata": {
        "id": "NSKAHDYfSCMp"
      }
    },
    {
      "cell_type": "code",
      "source": [
        "# удалим строки с пропущенными значениями в столбце air_pressure_9am\n",
        "df2=df.na.drop(subset=['air_temp_9am'])"
      ],
      "metadata": {
        "id": "FYR1X1T0Smk0"
      },
      "execution_count": null,
      "outputs": []
    },
    {
      "cell_type": "markdown",
      "source": [
        "Посмотрим на общее количество строк:"
      ],
      "metadata": {
        "id": "hon9tdWIUBxb"
      }
    },
    {
      "cell_type": "code",
      "source": [
        "df2.count()"
      ],
      "metadata": {
        "colab": {
          "base_uri": "https://localhost:8080/"
        },
        "id": "CHFZv-_jUWXG",
        "outputId": "eb403150-2c8a-4593-c017-68b9b8e905c3"
      },
      "execution_count": null,
      "outputs": [
        {
          "output_type": "execute_result",
          "data": {
            "text/plain": [
              "1090"
            ]
          },
          "metadata": {},
          "execution_count": 19
        }
      ]
    },
    {
      "cell_type": "markdown",
      "source": [
        "Количество строк в датафрейме и столбце теперь совпадает."
      ],
      "metadata": {
        "id": "o3VzeeXlUn8m"
      }
    },
    {
      "cell_type": "markdown",
      "source": [
        "**Заполнение пропущенных значений**. Вместо удаления строк, содержащих пропущенные значения, можно заменить их средними или медианными значениями для данного столбца. <br/>\n",
        "Сначала загрузим функцию *avg* и сделаем копию исходного DataFrame:"
      ],
      "metadata": {
        "id": "EEumNIAUVkRb"
      }
    },
    {
      "cell_type": "code",
      "source": [
        "from pyspark.sql.functions import avg\n",
        "\n",
        "imputeDF = df"
      ],
      "metadata": {
        "id": "eeiHWgDgU3Ym"
      },
      "execution_count": null,
      "outputs": []
    },
    {
      "cell_type": "markdown",
      "source": [
        "Далее проведем итерацию по каждому столбцу: вычислим среднее значение для данного столбца, а затем заменим все отсутствующие значения в этом столбце средним значением."
      ],
      "metadata": {
        "id": "HllbOP75Wj8j"
      }
    },
    {
      "cell_type": "code",
      "source": [
        "for x in imputeDF.columns:\n",
        "    meanValue = df2.agg(avg(x)).first()[0]\n",
        "    print(x, meanValue)\n",
        "    imputeDF = imputeDF.na.fill(meanValue, [x])"
      ],
      "metadata": {
        "colab": {
          "base_uri": "https://localhost:8080/"
        },
        "id": "qkIbpNMyWwMC",
        "outputId": "ae6f8e8c-f8b8-4662-9169-33872ee0492d"
      },
      "execution_count": null,
      "outputs": [
        {
          "output_type": "stream",
          "name": "stdout",
          "text": [
            "number 546.8256880733945\n",
            "air_pressure_9am 918.8833281182478\n",
            "air_temp_9am 64.93300141287072\n",
            "avg_wind_direction_9am 142.19559679647966\n",
            "avg_wind_speed_9am 5.516615074808091\n",
            "max_wind_direction_9am 148.87405226312185\n",
            "max_wind_speed_9am 7.030251646918073\n",
            "rain_accumulation_9am 0.20401566328648446\n",
            "rain_duration_9am 295.460895202365\n",
            "relative_humidity_9am 34.286931549494355\n",
            "relative_humidity_3pm 35.37023074361628\n"
          ]
        }
      ]
    },
    {
      "cell_type": "code",
      "source": [
        "df.describe(['air_temp_9am']).show()\n",
        "imputeDF.describe(['air_temp_9am']).show()"
      ],
      "metadata": {
        "colab": {
          "base_uri": "https://localhost:8080/"
        },
        "id": "qoXWfhQyXQ7x",
        "outputId": "98b4e8f1-70d1-4203-9ce6-866980ac56e6"
      },
      "execution_count": null,
      "outputs": [
        {
          "output_type": "stream",
          "name": "stdout",
          "text": [
            "+-------+------------------+\n",
            "|summary|      air_temp_9am|\n",
            "+-------+------------------+\n",
            "|  count|              1090|\n",
            "|   mean| 64.93300141287072|\n",
            "| stddev|11.175514003175877|\n",
            "|    min|36.752000000000685|\n",
            "|    max| 98.90599999999992|\n",
            "+-------+------------------+\n",
            "\n",
            "+-------+------------------+\n",
            "|summary|      air_temp_9am|\n",
            "+-------+------------------+\n",
            "|  count|              1095|\n",
            "|   mean| 64.93300141287071|\n",
            "| stddev|11.149946561759078|\n",
            "|    min|36.752000000000685|\n",
            "|    max| 98.90599999999992|\n",
            "+-------+------------------+\n",
            "\n"
          ]
        }
      ]
    },
    {
      "cell_type": "markdown",
      "source": [
        "Попробуйте заменить пропущенные значения на медиану и на техническую категорию (константу). Постройте распределенние для переменной (гистограмму) и сделайте вывод, какой из методов заполнения в данном случае лучше."
      ],
      "metadata": {
        "id": "z1dBYlkAXvk1"
      }
    },
    {
      "cell_type": "code",
      "source": [
        "# Ваш код"
      ],
      "metadata": {
        "id": "_ovPBfIHkO7T"
      },
      "execution_count": null,
      "outputs": []
    },
    {
      "cell_type": "markdown",
      "source": [
        "**Коррелированные переменные** - присутствие в наборе данных линейно зависимых признаков.<br/>\n",
        "Корреляцию между двумя столбцами можно подсчитать иcпользуя метод `corr()`. Для примера рассчитаем корреляцию между rain_accumulation_9am и rain_duration_9am:"
      ],
      "metadata": {
        "id": "EBz9K8eWeYht"
      }
    },
    {
      "cell_type": "code",
      "source": [
        "df2.stat.corr(\"rain_accumulation_9am\", \"rain_duration_9am\")"
      ],
      "metadata": {
        "colab": {
          "base_uri": "https://localhost:8080/"
        },
        "id": "bhL-xxore-wV",
        "outputId": "ede78993-9ca8-4723-cebd-29e5da211b99"
      },
      "execution_count": null,
      "outputs": [
        {
          "output_type": "execute_result",
          "data": {
            "text/plain": [
              "0.7337737589869374"
            ]
          },
          "metadata": {},
          "execution_count": 26
        }
      ]
    },
    {
      "cell_type": "markdown",
      "source": [
        "**Обработка категориальных признаков.**<br/>\n",
        "Данные для обработки и их описание можно скачать по ссылке: https://www.kaggle.com/c/ieee-fraud-detection\n",
        "\n"
      ],
      "metadata": {
        "id": "fY0KjQM-fVge"
      }
    },
    {
      "cell_type": "code",
      "source": [
        "# Label encoding - замена текстового представления признака на числовое\n",
        "\n",
        "# One-hot encoding\n"
      ],
      "metadata": {
        "id": "2XzzpFjInkZi"
      },
      "execution_count": null,
      "outputs": []
    },
    {
      "cell_type": "markdown",
      "source": [
        "**Масштабирование переменных** требуется в случае, когда один из признаков принимает очень большие значения по сравнению со значениями других признаков. Существуют различные способы масштабирования.<br/>\n",
        "1. **z-нормализация** <br/>\n",
        "![изображение.png](data:image/png;base64,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) <br/>\n",
        "где mu - среднее значение, sigma - среднеквадическое отклонение.<br/>\n",
        "\n",
        "2. **Минимакс масштабирование**<br/>\n",
        "![изображение.png](data:image/png;base64,iVBORw0KGgoAAAANSUhEUgAAAYEAAAB/CAYAAAAJtn75AAAgAElEQVR4Xu3d97csRfk18MHwNeecs2LCHDBhxoCIgKgEkSDLH/yHFFCCAQQlCIoBE5hzTog555z15dO8+1qWPTPdM3POzDmnZq1a596Z7urqp6r2flJV7ffvaz6T9mkSaBJoEmgS2JMS2K+RwJ7s9/bSTQJNAk0CnQQaCbSB0CTQJNAksIcl0EhgD3d+e/UmgSaBJoFGAm0MNAmsWAIJs+23334rrnnzq6vffS/LYvN769oWNhLYKT3V2rljJLCXga+RwI4Zpvsa2khg5/VZa/GGS6CRwDXa5f+3gvayLDZ8mDYS2Ckd1Nq5GRIoM6lrN8807bcztQuX0Kw6NuMtl2/FrIzzvegeW16iW19DswS2XsbtCbtAAv/6178mAA6QXec619n3Rr7zm4/v/e67XFtqxPX36wbFtLHunmnfD+nGecuO1v3OQ95hr13TSGCv9Xh731ESCKiVAD6EBPKQTSWBaW6aZa2VRgKjhtdGXNxIYCO6oTViEyUQ4KfplxbAEBdPnza9LMAuIqMalOf56vusmL7nzqu3755YSbWbbJH3avesTgKNBFYny1bTLpNAXD1IgPYfd89Oes15YN0X3ygJrM99U9bZ5/YKyJdWlHpKEmhEsDmjqJHA5vRFa8kGSiCacdm0PmDcVF/3UPfM2IBuDfB115WAXxLFOqyhDRxWG9WkRgIb1R2tMZsoAcD197//ffK3v/2tC/gmEFwTQ1xG17/+9SfXve5192UG/eMf/+juT3C5vs+117ve9fbdE615FbKYRwKeUb5f/l/+zXuxhNJW//7nP//ZFe/nbw3weQ/3kIl3bCSwil5dbR2NBFYrz1bbLpQAAP/e9743+e53vzv55S9/2ZUS1IEdoPu///u/ya1udavJfe5zn8ld73rX7v++/+Y3v9mV3//+95M//vGPHWgCQ8B44xvfeHLb2952cu9733ty5zvfeXKjG91ocoMb3KC7rwxAr0KsNSH4/1//+tfJn//858nVV189+da3vjX505/+1BWgHjeYttzkJjeZ3OY2t5nc/va3n9z97nfv/v7iF7+Y/PznP5985zvf6WSjrtwD8L3LzW9+88kd7nCHyX3ve99OJo0EVtGTq62jkcBq5dlq24US+Mtf/jL52Mc+1hVgftVVV3VAiQji6gD4gPIe97jH5OlPf/rkMY95TPd/37/nPe/pyo9+9KMOOAOWCODWt7715P73v//kKU95yuSRj3zk5Ja3vOXkFre4Rac1K6v+lFlBgB4x/frXv5584AMf6ApQ/9WvftVZPQA95IYAkNuDHvSgyeMf//jJAx/4wH3kduWVV04UdSE47UZk3g2xPfjBD5484xnPmDz60Y9uJLDqDl1BfY0EViDEVsXulgCwpyl/+9vfnvzgBz/oyte//vXJV7/61clvfvObDvhud7vbTR760IdODjjggA7sgCUCYCW8613vmrz73e/uyEMdgB5Z3OUud5nc8Y537P69//77d38RBw16KyyB9FKIAMizAlgn2sYS0D6aPctH0f4QAGJ72MMe1pHBne50p8mPf/zjrlx44YWTiy66qCNFxOa3e97znt37xXLwfr5rlsDmzZVGAtvVJ31H9+y9/cW2S9orfQ6wpPkDy7iD3vve93bAxw3CUuDuOPTQQycHHXTQ5H73u1/nMgGgCOKyyy7ryuc///nJl770pU7zf9rTntaRhusQAWK42c1uts93vtWB5sQ2ALfCOqH9a98Xv/jFzur58Ic/3IH2ve51r85Kec5zntMRnHYiqj/84Q9dOfXUUyenn356ZwF4F0Rx4IEHdjJhDXg3biEE0ZeCOi1usdUyWOkg2cGVNRLYrs5rJLBdkl7pcwJaCX4iAoSABGjAX/nKVyY/+clPJne7290mL3jBCyZPfepTOysAuNOyuUje+c53dtaA//s84AEP6NxF4gC0bADJfZIYwqpjAX0CyXshuAR1fYfUWALcV96PpcPK0d6XvOQlndtKW7XRdbmWPMgAAXAVIUKxAMB/wxvesHu3BIbrtNJpHdZIYKVDeWpljQS2Ws5DDu9sFsFW98JC9UdbLkErAdMPfehDk3e84x2TT3/60x0RCAg/61nP6kDyEY94ROcy4V9HEKwAJAAcgSmApF3TkOP7n7YYbaGGj7ipToFFWsoFF1wwOe200zr3kAA2C+CUU07prAGAjhQ/8pGPdOWHP/xhV2j/fhcAZim4r8wsQhxIp1x3MaupjQRGdOQSlzYSWEJ4g26dRwKNAAaJcV0XTdsziGvnox/9aBcQRQjAFMALmj7xiU/stP2vfe1rXUkc4eEPf3j3O185NwmNetM+cQ8huLPPPrtzDbEGuHZe8YpXdEFv4MwF5v25jbyL8qhHPap7P+Tm0+f/nybPPjk0Etie0dFIYKvlPIsEGgFstfSXrn9aIPP73/9+F0jlBjn//PM7rZ97B9A/+9nP7lxCH/zgBzugZBUogFThU6dNb4fbZ6wAAtLiAZdeeunkk5/8ZBcAB+wvfOELO4sAUYgFsID8xgUmxpFAMAsgaymyVqDerqJsVwP7sb202usbCaxWnv21TSOCRgLbIf0tecZvf/vbLkjMd05jljoqs0cs4MlPfnKX7SODSFbRE57whK7wkVsTACT7gqGbBIZf/vKXOy2fpYPMBI29AwuHK0hhDQgoc4M985nP7MhNVpNPvbNq3QktS2hLhuVClTYSWEhsC9zUAsMLCG1zbwGKAFBu/Zve9KbJZz7zmcnvfve7zscvFVK6p0ApUmAVKEhCkBTY16uO61XCW0UI5TqBWdLlwmLpvO9975u89a1v7Vxa4hjSP7mxAP5DHvKQrvheKa2bISuV8/ytetd5o2eoLObVs9N/bySwnT1YEkGzArZT8lv2LNry2972ts7twxqw8Ip/HAE873nP6wKl3CQWTZVachmQLQkggLhVwDgU+GLpXH755ZMzzjijiw3I9LGQzbsAfW4vVoAgsNLX5jxv2nPHvmdNLmPvLwfCUFls2eDZkIobCWxIR7RmbK4Ekh3U10JuE9aALJmPf/zj3eIpIGktwGGHHTY55JBDJje96U27UvrFZ7lDlgG2aVIcC54sHSmt3g0JfOITn+jcP9JZuYUEgAWCrR8o9z3qc/vUhOeaRfZHqvdeKjOq5o2eWt7NHfUfiTUSmDd62u97WgLzwILLRPBUIJXrxCpbriBbJRx11FGTF73oRb2AV2qhZc5+H2D2aa91p5QWRLa9zjXTQHhWxyaVU0zgzDPP7N7vZz/7WWcNILfnPve5XXwA2c0inrxnX6B4LNmlTamz3t5b+i4Xnb9ZcZ0U3MigfGbZB2PbspsmRSOB3dSb7V1WKoHalRGLoMzq4SZ5//vf34EkMmAJWFxlLcCxxx47eelLX9ppyoLBfR91Ai1at5KVu9mxMxqz6/p2IU2drgN8SiwPv5UEE8251MJrcAwYWhBnvQALR/YTS0AGlPeQDWQ9xOMe97jJYx/72H2vVZJNn6sl8qtdXvOIto/MyvfOe9rzCClzyYlZyGiybYX+yDWlTPqIdBMztlY6qHsqaySw1RJu9e9ICdQEEAAOOEcr/dSnPtWlUooNWBMAKGnLYgInnHDC5LjjjpvrMwf8gEs+PuAFwNFgo+16XnYf7RMoYBWYVQJ8vgvJ5HQ09ZaH45SLt0pt2EZ3FroBf/sefe5zn+ssAR+rgrmCxASU3BcZlcQSwqk17T7X2CLxkDzLX6uXrdmw6lkAWyyGtYKQ8ynbWJKLf+/Ug4OWnWCNBJaVYLt/10qg1FADNgFQQCMQbEUtF5DsGbuE/vSnP+1SR2nkRxxxRJdbL0MIKSQwXApMvbKK1GPVrfx7JOBTAmjAur43/9cu2UesAGsSrFkot2koXSizLIHskfSNb3yj2+sI8IsFeLfPfvaz3V+aNZfXi1/84smRRx7ZZTwpJSBPA/+817T3WMQtk+fqB5aLvrBqmcy1k/xLwK8JvpRh7S6qrZfdONh3FAn0mZi7sVPaO22+BPjK7QlEc88KWf/mDqI106JlzthCWfDUVhJ9LiFjmvUAYAFv9ibKgS0lEU0DTt8jGJk7tq+wYE3JLqZ9dUwDW21RgKmFcLJ+uH0Eiq0i5vKyWAzhnHzyyZOTTjqpe67iU5PNMj1Zt3seQQB/FhkiDvjb0I5lVH9K19W0IHX2VYr1t8y7bPK9jQQ2uXda2zZOAlYKK1bLfuELX+iyZbIGgDvHlszcJ3bjBP7cJllM1bdNBDBCHgAMeCUm0Oe26BNGCbrcUAotWOk7j6C2aFInYOduku3kvbTF+wBRhIKcLrnkki724TfXvuxlL5scffTRndvF8xBRn6IWMC1PH0OISk5dy305hQww+y1urFgQ8dnXVpK6tVffsKaylYXYgJIFbjkZLe9dnvrW54LL8/usuI0bnAs2qJHAgoJrt+1NCVxxxRUThcsH2NgUjrZvJTANmgvljW98Yxcspo1yywgO24GTVt2nkQIamnZ8/vVCsmnWQFlXgr5AMkc5lj52/y5dSmUGkfoTmKb92+zO7qYynPjTvYP3FfuQMmoltJiBXVMVMlBYHrW1kliG90M0IQJkxZrgavLsvHNOW9O+yCSAX/rsy/dVZ64NWZSADsDzfoiY6ypuPc9Hwtqmf/wW+Y3Z7G4nz4alSKBvcA71oU1z7dRBpT4TeJ5ZuJM7pLV98yQAZOImEQhWaJfWA9gegqbMIuDbZwG84Q1v6IAUmAA6wWGFqyYAFNdJOQ9WNa5LV0c9H8vtHLQhBCSoKi5hmwvFqmeWDH86ghO45mrhJhJ8ZTFYK6DIFHKOQk1yIQBxBqSBSCxCA7pxIeWdc8wlcC53INXGWATR4sUkuHjU7z5ylxmUrboRjL5BZKlXbIMF45PT0vSFTzbN8xx9lsN+0rYykL55o3P5Fi1MAgZXnftbZlDMS7UqCaQc/GHfMH2YPZOm/P/yr99qaBKYLwFAwmfP158Tt/j4bZoGJBEAzROIcAede+65nf8ccQC9448/fvLyl798HzAlNlDOoVUCTRmgLUmgnGfJHKJBs2gAuwI4uYAEl2XWcKtor2sEw8nB+7EYWDpKLB3EWH6ioQNo8Q6yUQfXl3o9CxmQn/oBNRlGWxfk9mwkog/8m7WRmIe2IxYuICRG3ogA2T7pSU/qDu3xbMVGd7K3ciyoul3nr+d5brKfxECyCE6/roqc54+09VyxFAnU2nxJCkNJoBZwnbJWR+sbCaxnoOyFp0ZzzUlbXAXACdAIiCq0R5qqvfNtmlbmoAM9IOcwlhwniTS4TKwcBqpcKzlBLH7mKDyrApvMy3JdQfbyB5wp/PyAUzDbuQgsHNthA1DbQtCmadU+rqVJixecddZZk7e//e0deANxri6FLFg+OSCHPICuZ8ik4kZiKflrMz1kw+LwLADse3599wm2W4jGCvGbPlCXIsai6JtkZuVMA3+1S2aWjfyyjTfrxhoC/3eNFFLuLu+oP1gnCI7FY6sPBB+X1W4f+wuTQJ9mPk27HyPEWXW07KAxkmzXjpUAcAR2AIH2CHxomACE+0MB/rZNkCtP00xWDE3S/UAJAdh5U/AY+LlOsQ2zxVXAD1DF7YEMVkUA5TuXVrX6kRqQVbwf8LfYTTu5VJTnP//53YpgLpGQlXkHcKWHinnYMI+lE/dM9hAC5u4D3EDcfZ7FFeResrS1BosqVoTAOeLhipJx5S/riYzsvSToToYKS0KRmmo1tneg3SMI70b2NvKjvZ944omTgw8+eJ8FksNyEB2XFgLwnmIZ+gIxWBSnPqu8PZu1wlrYir4ZOza38vpRJBDTMn40gk/Ax4DLUu0ILYMwecTZY8Q9Mcv6NH3PicbVd+D2bu+UrezwVvd0CQCKnAYGFIAK7REJcDn4v+0SAKXdM2n23Ak+AVggJoPGIqscLB8fNjcG0ONqkU0DZGibdUB1VX1UupvUScsFxLRhBOedaPaATxu4WwAjkKUh0+qT8QNwATEAF+8A2JnfCDEH0COC7KKqTiTguYiAlSRgbrO9uHQQgIKMZB+RN1mymKxBIGfADdzj0pGRdMwxx3Skxc3kXRCH+pGU95C6qq/Sf651jbiGwD4y5qZDBt5RPfZIIg/uLUTAXaWPdjveDCaBMtjEtNSxNAmTxr/57Mqtcg26bLdrQFm4YcLQfgwoE8t9AfkM2AwsGoVS1rkVQbRVTbhNqKck6bI9077fhDZvUhu4O0qNE0gCjgQzkQTwEg8A5jR7mqIPsAOwXBrcCrTr3BcliIYsoAl4EnSlMfdlDa1CLnWAWPsAMDClPZuHaWNcUraEkO0EyLls4i8nC/cCY8Dq//kAS8X1CuAmG+QHA8iNbN0H6BHBoYce2i2k8xzzHHGec845HSYgSBaAE9rU53rae/z7APrwww/vwNl3ZM1V5/1Ycu5xjWA18FcncEcQSBpZ8PuzJlgcSAQJXXzxxd1v4jeIMIvvVtEXm1zHYBKIfzGDhXmHPQmN1kTYOVA6KV25h8nFHDYJCNYAoim5twb21G8QmCwmGW0JWZSZDbudnccOmlmusuZGGyZNYxqgAHJaPCWnDLIaf1FOEAENNiQAVBGIOeGvMZ4xWoKx74xrIETbjTUwrIXjryrbr11SPPnlzVdB1OTrq9m15imtHjgD45BAtmQAljR1cROfBJj9m5LHtXLAAQd0LjOy8jtgJg8Wx0UXXdSBOk3dYjPXsxi40MQayNi95CsmwHsg/mBzvlgrSErJzqzIyZkHLDUEIK1VPEAdWSthYR8XFg+EmIOsJnEa748gEDdMQoqsDCQT8g6ejZf+zrhjMAnUqZuAPycn6WATCKPSiHyANgtAiclHW6D1mCgGAmamIfA3ZlFHFnlE46IpIY4y0NwI4H8HVyOB5SZc/N7RkI1j4zJyzV/AY6zS6GmROSQGoNI4Fdop7be2xgKa5oF5YWwnL3251s++O3NX2wAl10zy6rMaNu8X1xVw9p5AFDADR/Oc5Z/VzDUJZO8idSCQuMrIUjzFfKfx+8tnjwjghLYgAesr4AN3G0uCjBDOm9/85slll13WEZMC5B3TiYC1EQm4V9/BDSTrOplbuYaVoWiToDBMYinoJ5lOiMA7egdBYVZIMpfqdRdb2VfrqHswCdSNiyWQvVNoGVn6btAYXAF/2QaEmnSz+P8MCIRg0ugYJcu9Y3LHXN7NK/ZW0fHTSGAVwfpVtG+T66gVnCFtXeSeaaQw5HnLXFO2NcC9TH1j76Uc8sVz2VAckQl/vIPrgTxyckznW97yls5bwCfPUkJEsOF1r3tdZw0ET7JLqmtp/kiAPx9pyxpiySAT9yMjhH3aaadNTj311C4ek3MQ/EWKyAFJwSfEzgsh3uM+hTWk7FblcxAJ9PmUMSjm1YEYlL+Pds+kympKgRlRdj7CLK03gASXmIXMUlkV3D2EroOAPgZGCDSBaEq7tQPGTqhp1zcSWE6Si7jMFrlnuVYufvd2trV2f1EYgTyw5hriSuKzV1glgNhvXD5cSLajANA0cHswOc9ALAGGcC2zNEIAQFvGUSwB97ku8QkgDlOQgCIgHEzijqOEsjRCAq6PxcHagEnasVUZXIv36OrunEsCszTJ0lTm33fMHrOOVaDjBVgUZpnOIkigLyf5ggsu6GICNH++PyzPl5jPbvfDra4Lr61pFgmExBuRrlrqrb4+CWSvoMT3gDxskJUDkAE4n/7Tn/70LpibfZi4iYAuEqDNczu51wps/vyc2eyvEu8BPLGADeYAdnVwGclU8jxK5umnn95ZAlxNrBCYQ/PnlZDySiH1/5CLunkjlHlrnnb6KJhLAgGYeQCCseVG62imHx9bAjj8ewqrAfMmbUudWFuHIAqCb5/FJFCTQJkjHhfAvD6c9+Rl759Xf/t9d0jAWMzGa8YMdxDXb7RtQButPmsIuIgohTR4QVt4oA7uIFYCguD/5+IJ+AN43yERloZ4hfu5gJCAOmjx2sBLwdKgbMIldXAZSZdlSXi++Ifv4gYK2ez2cT+IBIYMzQR/pJAx3RxQDdy5eayYlA7GQhCl5y7SgZhapyQLoN71sAa27TRph7zzJl1Tysa/E7yLNraMZdU3CXb7xNikvt3pbZGJRPGjKCIAgXHzX9BWTCCnmHExA2FAni0opJ4jEWRgTCMG7iAFwNPSxSXhjmvc5zeuHGTg/iwkA/SIAUFINjGGPTupslxVqV87kx200+U/r/0rIwHClDEkB5mPzdL5dJbcY6YfS4A2oPN0RA6/4Crq+zQSmNd9//173D7RxEptbBkSqFvRCGBcv+z1q4Fw4oSCutlaAsgC9qy2BtgUQb9nAV159GYUm2RoJT1V3TR6GOS+ZG8hmWyRkRXRcUdl/ybP1r4UcyaB5xzXudv7bxQJzNLECVN0HisLwAjUJAdZypb84+T1CrwI4IgHYH4d11f3IiRQxjD6Om+vAFgth73y3rt9wu6094tCAh9yAHyCrOWYrNchxQ9fKjQJOAecy7oFm5OVmDMJ4E/qzfNz3nO5hiOu01xb7nyw2+MBnav4GkH+e+jAmkUC2XzLApuzzz67S/fKPiXcPswz2j/XT9xE2XwrcYe0o1yAEn92ec0sQJv3OrsVDOMCKrfxiGUQuc6TzbxxkF0c63Nq593Xft/bEuhLLpmVcDJEWiGEup7a4h3ynPqaIfcMaeNOuWYpEqhBxf9z+ITFHVYIKnxzovZW8dlsihuIyVaetDQLoMYA9zygG1PXTunETAjmNOJl+pYxgVLrWeadmOlZvLdXTOVl5NXu/Y8EFgHWadZs/X2ZjVTuNVYSRWJjdZ/EmvD9Krfz3kl9P5gE5rF5NHZrBkThLU/P9rvy/bmArBuw5SzLoO/TB+BjQHseAZRWxSKdtMhAXuQ5Y++JFSCwJsOCNZbjAjOwMyGm1R0NqtSkIvtMIAE9edyIAIH3HV84tu3t+r0hgUXmzhASMDZDAiTZSGD8eBpFAnEvzAJmJOBwCqmiUruki0rHQgIWacwigbHN7zPjprlASkAb+xzXT9Mq6uctUvey92QSyKKQM836ymlJY0ggi2JyT8A/R/UhAK48gfzEcqaReTlG0k9jCH1ZmbT7N08Cq5wrZV2lgrMKd9DmSW5YixaV71IkUE5u7gfuCO4gOcEIwMpgW0mI0su9dVgDEhAbyLbSAdg+gJgHHun8WYBT17EoEMVs9Lc+n3VZC2NYF0+/KiRgHybWl7zpWALlpJjncksgP+Cfv/l+DAlEJnlmgm85ycpeO6tyUy0rv3b/zpJAxvQ863ZnvdX41pZKeTKaFonXjSKBNDOB23JXz6SIyg4CRPJ2cy4rcgBK0kTtC2JlsNV5tMk+MzEmXvmS08A7AyHpkGVWQQnOJUvWdQ1l0LxvH7AuSi7ju/5/74gM9IFcbERcLxYb8pzSlC7fMd/nSD4rMDPYyjGRf/eRjf7XPq6qbOmb/klbh7SxXbN7JDBLKZn1lsnwSdxr0Xp2oiQzLzNnYqXDVMViOqm3Y/ZaG0wC0djriZu0KgsuLMG2DsDCEMvBo6Fa+u3/TmWyT7f9O8QFWAh9plzp54vWPYsEIpBc20cs80hgiDbfZ5nMs1a2c6CV7z12YsyyxEqgn6a991ljJYlnl00biNlahNsq92QR0HbKqj1r/RIYO0bTYinl2eI6qaHrf5utb0GpmAXzsnOrhBsnqfG4UNbGxOtGkUD5mgFvq+xonkDeCUAsAcutBYOzta5l2Q6FkCbKGrBfuG0kXFe7dEqQySCZl6sbV01tJtb+wSFAv/VdufonlNZQBkdkUj9tXmykBPPSmsiWw7EA6gk8lARyxKC4RU3We928X/3I2NwaFyUAb5RzBYxPJLBMXZsrof6W1UpztrnOsafl+StD321hEohlYO8P20HYgEkcQHDSBlC2iWABKHYMdeiDrBKLxp7ylKd08YH9999/ZjvzwtO07fr7kkCmuYdq4KldO7WQa+LL9XGJzRqAfe2rga6sb2in1depM6ZxAsJZiVmCfqmZ15p/nyWQOpIOSvtiavZpGUNIQPqqTb6ynXC5OCfHGOa7RWXR7ts5ElgUvBOjcr9FYIvWs3MkdW1LM8/9LZUyc8dOzRblSr03R+cpzuW7L0wC/PxMfK4fGUBSE3UOXz9WsiKYi4g1YOGYnfrcI83Q+QKOdnPEHlbvAxWrj5Wc+eo698YMtMxbPry/yEXxbNcEoPOiMpbiK2e5CE6qR0wim0R5F78hNQFWbVIXAfve71nxKEAq40mdfNxZqahO/nJADPC0TT06JfuleB9EafAq9ihhNdk+exrAzhusGRzeE8DqC/53bS6zg1LPNNda/X0AOQOOrGzla2+XZBL1WVd9k5JM9L8+I2PyKUnSM5olMK+n2+8kUB6EkzjdXpBMqRRHeYwLPFtnJ3V7TIxyYRLIeQKyfy699NIO8O3OhwCAmkZFK7UV7Otf//rOKgCM3EGOlkMG/FfAr9aaATGQzTazFipJT8R06gB49gsBJuX+31xOIZW4RGwcJVOJxQKEkYvnhrC0WfuBk72PxDa0SRYToQJtZIY8gB9XFgJTpyAnMNcZgByoA19uD21TD4LKrobq906u8R422LOJngV1OWlq7IAOCZCHQ8BlZ+Vs3DJOMlZjykDKpPPOtuK1AySyKxf71RZTyKEG9vTJ2LaMlUm7vklgL0mg3Opi7HuPJgGaHHCjbdoWmnnvO6BqC1gR6mwSlQnvVCDuIEFjRMANdOSRR3YkAMAFM2LuBBz4jGm1ORga0EajBphACKCLR9Aw/W6jOkfDZfMpG9ppI3BEKq5DIoA8RwAKUCsBUu+FLAA+4vEcz6VxqIOGzcpxjJ13ydGaLALvASCRgfsRh/b7a5W0vZLiWvG957Ao3JMN9RDTNPfXtM5N272TLby9M+tFW2t319ABUrrW0mZysr86S2jWYrG4nfKsse8ztI3tuiaBRSUQbFqFO3bRNhEG+UsAACAASURBVGzKfaNJAOhxAcnuEOwFEI6CcwgEoAMQ5WIjQrZwzH7eAsSCx7RlgO3ISZlCADCfZIq4VoyBdk5zp40jHAuVRMIRCfJBBE4zo73nEBtuHh/329YaGfgOeXieOtxDi4+WG1cSIM15yepGaOIYgB2J+Q3R+S7b1EqH5RKzTS0S4p9jDanL4TlSZj0bCSBKhUycbYqw/KY+cqyD5UPMupAA4mGh5fQm/x/i+581GON/zO6OOe6zL+i+KYN6SDv2KjGtwgIbMiaH9ME6r8leZ96lTI1eZ5vW9eyZJACQswlc/tKUr7766k5L59YAns715FLh2shhEIQMkBTuCaAHdN0DkPmWAR/N0r9p0fHBAxyAK9hMiw8oIwQgecghh3QkQDNHSsiIW+qEE07ozi3Nsx1yY0trYBjgFjwB6Dn8Jm4T2rj2cEFx2XgWTVq7gDPiuOqqq7rfgbl2+F1BWFdeeWXnrjr00EO7emyOl830tA8xKDkn1UlJrCMkoD4kSobkV0/UeZMuJFDuhrho2mX9rJAAskx+9pig0yIDu9wGwP1lmnDcS2UmWJ7hu1lbCJSpxHtZA1yWCOaNx0X6vL5HGxP0LRdn1vG+WJ21xVtmttXJHGXyQUhgO95pFXLZijpmkgDwBPbcC1wX/gJdmjVSAPBA66CDDuq0er5yROADhJCFAnABMgKhXetUGiVtmQ8foPM3x5XEZQOEXUvDZ3V4ng9rgyXgudrGbcQF4u/RRx/dFS4iz/JcPnKAbH0CMPdcsQrATHv3Lojmmc98Zpex5B3te8T6cK3nuc/z1Mv64CZCZKwTbaTpq0v7LYYjA4MKaQiIa7/UWHJSj4IAxEpYGt6fe4n8WAU+Y4ggJFBOiGUnej3Yyom01RNG/xh7eZ9sDZzgcQLxAYRc5/cEoP1WuqxckxhVVquX4LIVk6vVubgEEEDcvEkJVVvZ51EIYs2X4yMr5uPKTF+XWXPl6tqtHtOLS2Lr75xJAjoB0CohAUAIkAmZ4AA5bR4A0nTtFlqSANdRto/gHhEMNYl1DgDMwc787LRhBKAkcBogBwrxn3OnAGgaOAsggVsnmCnAl9UBfLmfEA0rgabtuXz0XDHqBurIDAGwMLh2uHC0ETizHLSLm0ubyCTurhBkZEQOyIaVoF4WBbD316Hagqo5EEPG1FlnndURFOuA9eB5Aup1MHee6yX+zWjNO31AGyf6NG6tpPsGAPzNIhl50Ur2qKc8IHb3lsGyyJBsc3xgcqx3ury2Hia2/wmUMB4AeBPLs04fzqKxJGT4v/lpPrPCc2+IoAR9HgxzTcxv3vza/rff3ifOJAFsrCMINFtAAH9sGlbWAYiAu8TkMiF9dJh7TEouFK6bEEBMdp1DowboAsTAk/amhLH59GnTgrPAHyDTtAGfoypp4IBVO1gjgs2AnzaPgLQfkFu7QNPW4dpy3nnndfeLTyjWLtDUbX7nPASDw/9p6Nw1XFXl9syez5oQdzDYDDwkYKdUA8xzubNYIgLILJQjjjhi3yEX559/fvde3ltWVQig3KGz1ObnAdVu8nGzxigOyf4CCJQA49GYMZn1uSXyZK6PjBky4EbkmmMJAoSk9QJ8ygX55szrZDhttXtre6f07ngazKHkcR8n3TlnZURJMs8oUfAALhgPFAiZeXCBFyE4lbUFUTK5fylfcGuvW4QzSQBY85knHz9559GwCA/7mkzAHFAnM8eE1Hk0sgRQ418OwCfH1z06FJCHtWPOAcvTTz+96+zDDjuscxvpuKw/oM3T9ONWAqYsAHEIGqH207KtS2CtaBNQVq/DqQFI4hIGhu/OOOOMDvQ9j4Xi3znzNFNM2/n1FR8uInUhDu/DPWUQCkCznI499tguI0q7/V/G1Nve9rau3TljwfsbyEqC23Wmze6Y4rPfguz0ocmcVGF9SXZZd4GYEah0YyUkADguvvjijoBdjziMLQXZ0/5yT445bCSweaOKEkXJ4uqlSGb9DgsxhxuZO+as+YvYzR8KGcvbGOCCpjzp31iMOeMYaRgHvAstMDzDeeynnNGZxU0RajTTaGalnzW/BcgD+qVPrzTt1GESA8+4WhJU5po588wzuwkv+wcom7y0RN/LOkrQV0dHC0/sgkZhoNDEZSEBFu4bJAEoBLWBcIjMvjbOSOb+cY/nZRWe9geUtf/cc8/tCu0SKBmMrBUWDzAygLXDPdxE3EE0VIWlwiUlPmAwul/7DVIDU5179RN3kAmv0AZNaJPb+NAfSQfOaXVZGyI+g5i5CY0R1wMI1mCIIGnBxlvcSHtV1pv63nEHIQP9aM6wuhXznyXokCpuXPObN4LiZO6xJM1LczkuI9cYA5RJSp3rxd+MpeYOWmEEcZUuibifuGxo7Uy+k046qQNanSbgTGN3gE3iESwRBWEhIINHfACB2MZCpwOSBLhp5M44AM4sBpojUrH4zT1IIK6GelUzYnOOsuAuIHcdi0OhjWgX1wQriGbPTcRKSPyAuWpAs2poJUjAAPV/bjEDda9+EuMABGTJvWdSs/r0KwCwJbkgPHkhzQR+xXRMfrJHICa5oL/gPk1RiUtgr0/+TR5fSXZguVOkzGM4oFDYEAFL/fjjj++UOwSgP5GAa8XczOUQP9eP9HBKVtKcowRsshy2o22j1wlsR6M8gwbABQAAACbTT6dLwzRAADyXCiCNiRcNL1khFmQJEPsAdeDBtcW6Acw0bwNIyfYUwIM/GhCzEDw31kncBiEZBKVok0HmGdwNrA+xBc9P8JsbiyZiQCvazdwF9lxYnqP9QE3bDPRlP2NiCnlWn04wLx6xbDvr+9MG/cQFyWKz/xSZGhOIVaDdeJC9JRkhW4OwAFh57tMffs9q7cSbElTe7vdatZx2c33J/EH6vALcgiz0c845Z1+MQDq2lHBaPmCnNEhgMYdZhKx+5A/8KQoKsjAOsu1JGwMjD5rfzkGXzefyl6Ys6Eubp4XT8gAplwtQ5p7humH65xxcGgESARw0CgMLuNK4WRSymeLOco1isCEEYOwaf8s9dAwa4ETj4O9XgDs3UNY5AHnuIG3kVlK0W100W8V92k8rBf6IJPvyhHSWkfciYD7LKFznZBHgF2DnEkLqFARuAEUfsr6ME1YewlCQsUwxY2LWFhfLyLjdu7USKD0LAF4ihaKvKYGseJZA1uWYb6zFxBHMI8kYvADtM10CG2sJ0Oy4a7KYixmPCGjJBoeAM7AF2kjBd8CWry8BamALMNSRvHNaAFOSViCbKZkBtA3XqVehwbvG39rNlSwhAxFxIBWWg+f6qMdzEY/2AnrtV1cWmLlP+7WHRYJA1KNtAdwSePdagLiUOVmGNJn4QB64KywwxC+Y7BqaIyUgW1wYM0kFbUCwcyXAspO0IY4maYDFp++5cilQ5o9YEqUPGbACWYgIgqXQPjuQBAICMQu9Qqkh5/va5VH6eXNNVg/6f507XrtB+uqbFuuI7zrB8ixFT1vjPqpBvW572eZyMUy+X8Sts5MHfeST9ze5WXUmv4wqFoE4TKxDFiJQuPzyyzvwBwwsBG7COqtrJ8tlL7edEpcNG1mF4j6APgs5+f4pclxB5t3hhx/exYKSSbSXZTfv3TfWEigbvqwWHLD2tyaSPKcOEtaukSHukKx/CCksmnpYg/5eIwF9Ur4z60mKoAnOJwwE4t+n5SnInYUmtpJdWbmBgIBP+ndIP86bNO337ZcAly/LWxH0lSggthPrn9WOCJC+f3PlSibZ6+mfQ3pqI0lgKABP09DrFy9JoNSuy+eUC0ZKK6TPNdMn2NLqqNNoh3RETXoBrhoQ9xqIkStw5+aREWYhnyBxTq3LPurSbKWNcg0AhtKNF9mWgDB07Azpu2XqGnPvmGuntbueW6USNORd13WNdnMJKa997Wsnr3nNa7rYmu+5UVmF3IKSORBAtnaZ1d69NpemyWLjSGAoAdTgOAtEp11bk0AGxaJt6HMljZk00567Fy2Buj9ZWeIo1o3IyOIeQgpcAlxA9mYSKOYmEodhAdRut5BA7cYb00fTFICStMfUN6Zv9zoJJBYnLZsyoP+TfCH7jiJgHLAMo4iVfVGDfiOBa6WzkSQQ98+8TionUCZ83el1HdMm0rxnzdL+Zw2uMRN3GiCMAYoxALSTriUDWVsCw1JFpQAKAtL6FGswAACtMC6/ktTdX24ilk3o5mViDem/IdesQjNf5jl5/irq2O5xU89t63ikh8sUkxEmDZgCgASsGZKkkYy+Ot7WN88XmfvbLYOtfN6uIIEM7D5Nui8ouyoTeKjFEFKb15GzwH5oHfOesVN+L9/Xv2mBMsEswhMYtihMoDBbdFv5bUEeEohWXlt2AYRyS+lpcZuhfVtamX1gMq9Pp5ro16Qi159pAD5GSSito/Lf9fbKY8dJZFuuqVkVuKad2b3gsssumyi2ZbH4kvVn7y97hwkUywoqiSMKwBDX7tg2z5N9FqGSL+vUOoWcpjhLxvX4n2XRjO2r+vpdRQL/83LFRBrbucsKdtH75w2qRevdSffVMkAAAEBKLQ1QZoi1A4r1F2IAcsGtIPb/bAXRRwIlaIcs6ueV4BhQGwLAqa98Rl23NtUEU943xGIox3LaWlo288AlCQyCrXGx5N9DgLJvnrnPqvoUgLdoYkRf+7Uz+26xBBTuIOnDUqzFgpCAccA1lPcoLYJ5hD/PKuwj5ex/Nu1euxNIaSZf4C+GxYU5a0eAvvGY99iKbU52HQlMA/udQgLzNMudBOaLtrW07PzbQiFWgElvER4rACHIFMnukFYP21uKa0BWUHnOdOkS6GtT+byAdL6rs8mmuRdTb008m0gCVlwDVFpqtmwvd8gdMldqMvP/7OabtTHZTHLRcZC5oG3anPNJLAbjCrIi2Djw8UxZYcccc0y3p5A1O8ZGebjMPBLIOBny/mnbPBLQVq5LiQ3aSEmRtYQMhhJ+LGHXb8WOpxtJAvWEmjVx+zS7vuuHduwyA7bdO1sCfRpweUet4WbdRVZg06pcY0JZNWpTMYFBBMEVxBKwetvKbGZ3udJ7npZXu0nquMI87XqaNj/UHTRtfA5xSw19Rt4BAfClC67nfJCy/fNIsyS6cg0OgOOK4Z5hna1ijQYCQFQIK1utZO8nW0Qgg5z9bcW93Xod8UrTtmgwJ+zNA88+sh4yn/tkX7pyuKuyq4F2G5sSGebtDVa7g2pLdJV4tiNJoA9MSqE1EhgyfLf/mjEkoHXZQM5Ess8S058WZVV4dmO1SExsgCvAXjLSBIFBAMAzy9TQUoMttUTXuDZHGgYIy4wiv9fxhHIy9k3MvntKwK0nd31wSq4NSUUbHOq26ZO5NRdkhggE2y3GU98Q4isJIm2NFQHc9I+/XB4030U/kZvtWYB89hGTDJDt3zMuvId9uhCPbSIkCLAIkdK0+E9N+n2gGxmTS8ZH3T99MivrpsCwYHwnbdVaBkSAEOrtaCKrtLns63psNRK4RqBjP6sU2thnt+uvlcAsEujrH5qqzQNNcO4Ak0j2B4BBAtwB4gOKRWI2CuMKAAIAIJOx9utnkqlTScAuVkaOodTm7DsUn3nu4epgbeS0qj5XQ54DyBQL3Lgp6phFOflzcErkkS0vtEkdnpMNEoe4L/pkTrNmQQF/C/HUO49U+kCoBDvvamuUnAuCALRz0U9cQDm+VRA4CwRtuIjoWQK2CkmmmN8FiK0gt5eXLSPqLKG8RxkLIXPfp2+yHiHjJmelZL1KxoLfc/Rlvc4oQWyKjOJ39WcHVGOA3NVVrmrWDt/n7Ja4O7Ph3aLynHXfxlkCAYtZoD1Po2yWwFYMleXrnNZvdV/njGFan4VhAMtOoCa+bbe5HGhYXEJWjlpFzB8tNVCWkG2maaS1CyjaZYA8+0WZmCwHgJ4ziu0fZYLS2JBPzsQIQAAc4OA3JSuTSakG//KexCsSQM0ZGu7xbIABmGMBZMdTdWgv8FCHkj2yZrlvxsyVof0zZCQsq3QBQm4rRG+/IHEgJJ/dei0Oyy7BssWsIrdDMIJwjc0DEUKpfJREp/4cehV5Iy4yJWf9n4+xpegjYydKgvEVgsjfjLEcWxsLQ39l/Urq8X6e45nGUw7U8l2Iw7gyvsozTZaVbd1/G0kC8wbZmIGdulYtuHltbL8vLgHgzv9P01NMEJvFWQQkoAawTTJ+YguHnOtg4piUjuo87rjjOpeBiVcGJxNjEFDmWopLKQG7aK+0OMSjfh/15iCTaL9A2TMRD2JKoC8aLCDRdq6AHFgU4InlwS3AbUGDdr0NEx3F6tnRYAM4IRLjmDy4Pmi6/O+Lju0x86iMA5Q9W7rXVjnXuIAAP5cPOZNHDo/S/2SW86SRBGUAKbBEXGcM2EOqdueFMLmX9E82oSTnxBESVNYnAeMchWsc+KRf9DeCoKBwg0WLR17aw9rSr/pZ+qpneB8WjjFurCe4nFMFo7yE+G10KRWaG3QrNkNsJLA4VrU7VyCBAFH5l4lvYpsoQJzmbzGYoG/5MXmcLqeYcIDDdQ4fojWacCZogCqppoKJgnXJMnEdS8MkAyImuEkMKACBiZ0twaO1OTPCNQCHH5rlEXdSzjagoYplcE0hCwBv0rMCgJiJrb2eG7+3tFf15iS/7KSrDdrlA5AQojMVaL3LfOqYxJC66ntCjLMskln1lmSUugC0zQKlV+bQKGmg+imERCsHlFaQ20qC5aiPXfPqV7+6O1c87ppo6Gkj95JFh8YCmbMGEDli1l/Wm+hjJZYjMPYbIKYoAHP9k0OjDjzwwH27HiMwRd3GpoVszj7gyhSM972xITaDaLxH9kHKMbOUAWPB+LdttvGS8xCG9NPQa3YkCZQm3pAXXVRTGlJ3u2YxCQDwaLc5SjTHSdoozuRkAtPoAwKANH2fc6vf+ta3dqdNmVS0OmAsJsBy4BowaWlvwACIeiYAAC6xBEwsO47S5IArTdvEFZNwrXrFGrgXXKsAHEeEikUggUxQ7+I39ce1o00AzIR34A0SsMkZTZ7/Wp470GOdaKfx6t9Ksp8SVPSbd2ABHHzwwZ0Vst2fPhJY1AqISya+c9q999af5EWeVgPL+MnBMHmWe1iEVpE7Z8Aus74D4IccckhnFep/JBtLDngbO8kscnQpjVw97nO9MafPWCG2KNceZKC/kDbQ9xwAnfRPLki7lqbfkLpi/BjLrIATTzyxqz8b4VEIjDOB7RyA4zrtMB7dS5Hwb25Ofe23MuDeZ82NxbsdSwLbPfDb81YrAZounyhzORPHhEQAwNlEMRkd8UmLihtIKxAIcDBxaYFWj5rIJpQJwvQ2YWQM5cAR39OmaW+eoXi+Okwk2jXSsAmdSaculsIll1zSaXQOL6HJARPuHQeZO94UwCABW1ewIoA2QKJlAn4lW1s4+5jbAgnQ7rRRABOpADCWAsLzG+AAgoACCQGP7InDQtJGxKTN2/3psx4WsSi0G+h7H4Dp/YEueXOj6RsyBZ7O6GbVJe3U81hctGrEqj9kiqlPX+p3siR7cqbhK8Cb9s7KA7zGjXHnO8+iqQNcYAzglSgNvj/hhBO6sZhjT/W1dp9yyilddlpcmDlz3f3Ggqy1k08+uWuDa4wT72D8OydBAoRxpFB2EB5r+KyzzuosDyRIsRELYZHkE8upJOFGAts9I9rzFpIAQE5wN6fH5XS35K7zs8r/N4FovoDPh0Yf4sjh40DEhKJJM6ezKCdauPtjRXiO+2nrgN4k4xKKZg7o4yoyiZESMrIQqXRBCEgjHN8DaMRGg/U9l5YdLWmHgMXktfmdSU3z564CUt4RCXgG0NNObQEcSlwF3gMIuNZ12ujZQGW7P6sggYBXLK5o28gfOANzsiYLbi9Wj38rCbzrR3JDmOStLrIBgoAaQbPUFPJDmNxFxp6xYszoZ9o2hYA1p0+MN+TtfApAHL8+BQFIG2P6GXH7nWKBHASjQ2b5y5pkUeg761i0CQEgPuPc+3ILGYtHHXVUV5CdZyAHMS/Ex7Lh+iuVoYznBJ8XtcaaJbDdM6g9r5NANHJamMlr4sf3mqAbHyktzuQ0gf3fx3U0RsX9zGn3CKgFIEwikweo8tWa3NHigYA6aI9cSa5TP8sDAPhceeWV+zRLLgTbEViVnDOiuSBYIep95Stf2QE9MqO9A3vtEptgQSQt0D74r3vd67prBS2RDo1Pu7QHQHFFIRMWiOI3VgyNlkVEW3VdUkUR2FjNb9khuAoSSD8BcGBKrsCRhZcMHO/p3b23fklsJSmawNX9rAaEQJvP4jCauDFAXoiDZh+ri6XADeVZNHDWGUDWJ1x+niP4rB8VSoU6gLDf3Yd0EAit3nPEH/jtk10G2Fko2sR9p//8bjy6JudjsEi9h/dn7SjGJysHwXB3InoEQnFAEBSBVbiB9pHGNZWNT7pfdhS1+/e0BAw5A50Wl8mfjJhoN0CCxkxzSlDWRAR4QCBWBFOcv9Yn2wQkgAoIgAAtnb8/Of/xCzPlX//613eTnq/XREUGJjmA55ZQJxCg0Su+A1omL/JBUE6xYqLTDrkObHKnfa961as6DTEZIwKdDkunwXMdCHR7RyACKLyXwLN3DwAJcubgHM8KYSRjCWlsNwmkj8rn1trovAEeEoglABRzDGzuVSfAy+Iz/c8aDNDTot0PwFkAyCNwlowb9+t3/apkjYU+9kxgfd5553VKCSDn8kE8iCJnGrMi4l6ilOhbWjpXkrFmjBk/QDppuxQMxf/58T3b+EqMinVBkTCWtMWYNCZYE8mOY4VqX/bGcj+FxTtlXUIC3cuMgWYJzBut7feVSiBugJjlADKgXE7+gHoWWJWLcvyWoHKsB9+ZGKWP1MQA4iYOIMjESSDanvSnnXZaN8GZ4SYZ0uGaAAwCvDQ3IMSaUJCDAnS8A0A3+U1Mk5f5TzvlXmAJcBXFzeU+wMA9QSvkcgA4AIt7gHYK5LwzwmClCHJzhWgHonEt7dJ7AQckshM/daqtMYAEA94hmqyLyMK8ck+oJAcA4txb67RZ7Ztc/yzU465hfbIExGrcp7+4Hz3DuKQgsNwE7wWZAbl4DStP/yRWA9hTkmYaAmH12dCOn1/f0ur1m/Ghf1kL+tBvnqEYd1dccUVHcMaiusV/uA5dazxn/Ujeb5kx0EhgGem1e0dLIJM/muO0Tb3KipPe52+9MnOsBhTABbomockKxLltaNrAApD7nmuHG4I/1wSkuZv8THSgA5iAMzB3H3IxabkJaKdHHnlkp9kx9xUuBKADGLgVaPkmf2IJNFNaI8KKP5pmijCymC3gmLUN8/agGd1B23jDUOuh1O5DEvp91jYX8wLVCIAfXjBZv+hLYwAII2OaeoAcMXAFUgYQsXu4kFgi2Z4iq6Wzb1JSlxE+NxTwN0a4/xAJEqCEAPusgDYOlbgajQcE517XeBYy0YaSBJa1BhoJbOOgb4+6VgLlRPb/IUBeanhDrp8ma9p7UkO5bfhdafgWF5mcfufq4bbh7uEnBgwmogmMBBRAQavMpPY7YEYEtDtaHKAHAFmXwCLgvnIPFw/yABKeyS2Q7CYuhKQnAgU+cR9BYmSARFgsCGMVm7Rt8rgslYb8uwT/eixknNTX1uNH3yLkpIAiU249fn/uRWPEKmQFAUgBJXMETVPP4jT9DpT1C0KnLCB3AK/4nfLgXs+g1etzJIAoJDboX+OE20mxDYot07Oa2LhKv2fFfFacl/sPGY+LfBoJLCK1ds9SEsgELZfxL1XhiJsBLi3QJE8ON3Nd9oUJa+IBBi4C7h0kID0veeZ8wUrcQSa+zB+TG7hzawAXAUOT3W8siyxI4mYwoT0L6QANcqBduiZ7xHD5KO6ngarXM7O+gEZYbiUwQgQ75tIa0NPwWAF9L1Lfk2vLMec7fcwCQMzcSoCcywWA63djJAu+rFMwPvj+AS1LT1qyMZTAPYBXB2Knsdvu5MILL+z6KCmf+hwZ+L/4h7iPuqQyIwF96xpJCSxBVkAOoInCERLISujsgZQtJxbp3EYCi0it3bOUBOoJuVRlc26uNUCaE1eNwiUkIG1iAmNaHpD2HU3cRKXFAYZs5JU8cAAdzZwLgFZuwnLtxJcbjTUuLNaDe0xY2r50P0Tg356pTclc8lpxg5no7tEGQON5AGkrthDYyr5YtO6xmTCzcl2ieJA3EGe5+S6ZZHzuXEH6IkkHtPOk8upLloKgsPGjb7hm9GUsAq4hrkTETmM3LowPIK9+xEHZ4I7yDMoCok/2mnYZQ8aS+7PBnDYmRTQuoFXMpUYCi47Mdt/CEljFwB3y8GlgkGydbAqXjeBMcBq334G1301akzqfrGxFEIjABEciJqj73ZON6bJNs9+V7AWTIKh7AIO/2dIi5JJN4oCEOIM2siC0R/H/9pkvgWluRH2hL/2epAMBeX2YXV+zkWHOL4i7heXg3mz0phXAOfEZdWb1u3710XdIIudcqCMZTdkLKcSfgLd71eW5aeMyGv80aTUSmD+O2hUrlsCq/PvzmlU/J/9PnnnSFJNTrr5sMgeoXZ+9gvKsbPWciWpyZnFP9ihKxlK2aU5miue6PymOQCdbWnhWNp9zTSyPkI42akva4//LxEbmyW63/F4rApFZ+sJ7JsMmmUPZt8lYiKZfpuKGsEMS6tCPIWbP1PeKOjzT/dlBNn0dZaAeY+X4VLf74/6pd8ZdRT81EliFFFsdoyQwL3NjVGUzLq6fs10WyKra31fPNFDbymfu5LrHupKWfdftUnCWbWd5fyOBVUqz1bVREugjgb4G1oueon3l2jETe4g/elkhbReJLtvOTbl/O4hgzBipx1XG37qUlEYCmzJSWztWLoFZJFD/FleORvitDLzVDZvmhkmds0B6ERdOA/3VDI15VtQQOU+7ZhaAD70n7slyLcxq3nx2LY0EtkPK7RlrkcBQS6DU/Psm7BAtb5YF8F+m9zX+3bGfkNLY+9r1/y2BRUhgqOyHjJE+b2th6AAAAjFJREFUy7Iee4khDFlEuar+bSSwKkm2ejZOArNIoNT8a/fP0BeZBvzTFjAt+pyh7WnXDZPALM28BuXSKhxW+/yrplkNY4hk/lOGX9FIYLis2pU7UAK1Jjfv/2NecSgJqHOIq2HMs9u1i0tgVl+U42OrQHno8xd/w3F3NhIYJ6929R6RwBDQnudeKEU1T/vMtYvEDPZIl6z8NYf08TIPHepKWuYZq7i3kcAqpNjq2JUSmDeJx5JAH8CPqWNXCnmNL9VI4FrhNxJY4yBsj24SaBJoEli3BBoJrLsH2vObBJoEmgTWKIFGAmsUfnt0k0CTQJPAuiXQSGDdPdCe3yTQJNAksEYJNBJYo/Dbo5sEmgSaBNYtgUYC6+6B9vwmgSaBJoE1SqCRwBqF3x7dJNAk0CSwbgk0Elh3D7TnNwk0CTQJrFECjQTWKPz26CaBJoEmgXVLoJHAunugPb9JoEmgSWCNEmgksEbht0c3CTQJNAmsWwKNBNbdA+35TQJNAk0Ca5RAI4E1Cr89ukmgSaBJYN0SaCSw7h5oz28SaBJoElijBBoJrFH47dFNAk0CTQLrlkAjgXX3QHt+k0CTQJPAGiXQSGCNwm+PbhJoEmgSWLcEGgmsuwfa85sEmgSaBNYogUYCaxR+e3STQJNAk8C6JdBIYN090J6/NyTw72tec7+98artLXeWBBoJ7Kz+aq3dqRJAAj6NCHZqD+7adjcS2LVd215soyTQSGCjuqM15j8S+H+ykCKuUY2lIgAAAABJRU5ErkJggg==)"
      ],
      "metadata": {
        "id": "0weO8zgskTjt"
      }
    },
    {
      "cell_type": "code",
      "source": [
        "# Ваш код"
      ],
      "metadata": {
        "id": "lQVw2Pydmr_y"
      },
      "execution_count": null,
      "outputs": []
    },
    {
      "cell_type": "markdown",
      "source": [
        "**Выбросы** (нетипичные наблюдения)<br/>\n",
        "1. Ящик с усами (boxplot)\n",
        "2. Точечные диаграммы (scatter plot)\n",
        "3. Z-оценка (z-score)"
      ],
      "metadata": {
        "id": "HyQvezmagBXJ"
      }
    },
    {
      "cell_type": "markdown",
      "source": [
        "**Ошибки разметки, дубликаты, шумы**.<br/>\n",
        "Данные для анализа: https://www.kaggle.com/c/shopee-product-matching"
      ],
      "metadata": {
        "id": "aukXS7kcgjMN"
      }
    }
  ]
}