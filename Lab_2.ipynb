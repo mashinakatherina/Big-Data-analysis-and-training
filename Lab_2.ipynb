{
  "nbformat": 4,
  "nbformat_minor": 0,
  "metadata": {
    "colab": {
      "provenance": [],
      "collapsed_sections": [],
      "authorship_tag": "ABX9TyMrO1w6nNDWK4YgyHI5dxPE",
      "include_colab_link": true
    },
    "kernelspec": {
      "name": "python3",
      "display_name": "Python 3"
    },
    "language_info": {
      "name": "python"
    }
  },
  "cells": [
    {
      "cell_type": "markdown",
      "metadata": {
        "id": "view-in-github",
        "colab_type": "text"
      },
      "source": [
        "<a href=\"https://colab.research.google.com/github/mashinakatherina/Big-Data-analysis-and-training/blob/trunk/Lab2.ipynb\" target=\"_parent\"><img src=\"https://colab.research.google.com/assets/colab-badge.svg\" alt=\"Open In Colab\"/></a>"
      ]
    },
    {
      "cell_type": "code",
      "source": [
        "# innstall java\n",
        "!apt-get install openjdk-8-jdk-headless -qq > /dev/null\n",
        "\n",
        "# install spark (change the version number if needed)\n",
        "!wget -q https://archive.apache.org/dist/spark/spark-3.0.0/spark-3.0.0-bin-hadoop3.2.tgz\n",
        "\n",
        "# unzip the spark file to the current folder\n",
        "!tar xf spark-3.0.0-bin-hadoop3.2.tgz\n",
        "\n",
        "!pip install -q findspark"
      ],
      "metadata": {
        "id": "63iMSUaGClik"
      },
      "execution_count": 1,
      "outputs": []
    },
    {
      "cell_type": "code",
      "source": [
        "import os\n",
        "os.environ[\"JAVA_HOME\"] = \"/usr/lib/jvm/java-8-openjdk-amd64\"\n",
        "os.environ[\"SPARK_HOME\"] = \"/content/spark-3.0.0-bin-hadoop3.2\"\n",
        "import findspark\n",
        "findspark.init()\n",
        "from pyspark.sql import SparkSession\n",
        "spark = SparkSession.builder.master(\"local[*]\").getOrCreate()"
      ],
      "metadata": {
        "id": "VBduE7JKEBcH"
      },
      "execution_count": 2,
      "outputs": []
    },
    {
      "cell_type": "code",
      "source": [
        "# Загрузка данных в Spark DataFrame\n",
        "# df = spark.read.option('header', True).csv(\"daily_weather.csv\")\n",
        "df = spark.read.load(\"daily_weather.csv.csv\", \n",
        "                      format='com.databricks.spark.csv', \n",
        "                      header='true',inferSchema='true') "
      ],
      "metadata": {
        "id": "cPPCMfSNC0Xr"
      },
      "execution_count": 4,
      "outputs": []
    },
    {
      "cell_type": "code",
      "source": [
        "df.show()"
      ],
      "metadata": {
        "colab": {
          "base_uri": "https://localhost:8080/"
        },
        "id": "9vC4peh_Gard",
        "outputId": "a4cd9047-022a-4f90-9e4e-fb9f643ddbcf"
      },
      "execution_count": 5,
      "outputs": [
        {
          "output_type": "stream",
          "name": "stdout",
          "text": [
            "+------+-----------------+------------------+----------------------+------------------+----------------------+------------------+---------------------+-----------------+---------------------+---------------------+\n",
            "|number| air_pressure_9am|      air_temp_9am|avg_wind_direction_9am|avg_wind_speed_9am|max_wind_direction_9am|max_wind_speed_9am|rain_accumulation_9am|rain_duration_9am|relative_humidity_9am|relative_humidity_3pm|\n",
            "+------+-----------------+------------------+----------------------+------------------+----------------------+------------------+---------------------+-----------------+---------------------+---------------------+\n",
            "|     0|918.0600000000087| 74.82200000000041|                 271.1| 2.080354199999768|    295.39999999999986| 2.863283199999908|                  0.0|              0.0|    42.42000000000046|   36.160000000000494|\n",
            "|     1|917.3476881177097| 71.40384263106537|    101.93517935618371|2.4430092157340217|    140.47154847112498|3.5333236016106238|                  0.0|              0.0|   24.328697291802207|     19.4265967985621|\n",
            "|     2|923.0400000000084|60.637999999998776|    51.000000000000036|17.067852199999727|      63.6999999999999|22.100967200000003|                  0.0|             20.0|    8.900000000000047|   14.460000000000045|\n",
            "|     3|920.5027511759195| 70.13889486830053|    198.83213271746368| 4.337363056162703|    211.20334124325618| 5.190045360219378|                  0.0|              0.0|   12.189101868764444|   12.742547353761848|\n",
            "|     4|921.1600000000036| 44.29400000000284|                 277.8|1.8566601999998955|    136.49999999999991| 2.863283199999954|    8.899999999998613|          14730.0|    92.41000000000044|    76.74000000000046|\n",
            "|     5| 915.300000000006| 78.40400000000422|                 182.8|  9.93201359999979|    188.99999999999986|10.983375399999995|  0.02000000000043656|            170.0|   35.130000000000265|   33.930000000000256|\n",
            "|     6|915.5988675132801| 70.04330431686239|    177.87540718659943|3.7455865377244795|    186.60669587586753| 4.589632428699432|                  0.0|              0.0|   10.657421657822635|   21.385656725200974|\n",
            "|     7|918.0700000000023|51.710000000002346|                 242.4| 2.527742199999939|     271.5999999999999|3.6462121999999924|                  0.0|              0.0|    80.47000000000041|    74.92000000000041|\n",
            "|     8| 920.080000000006| 80.58200000000384|                  40.7| 4.518618799999764|     62.99999999999986| 5.883152199999977|                  0.0|              0.0|    29.58000000000045|   24.030000000000427|\n",
            "|     9|915.0100000000116|  47.4979999999998|    163.10000000000005| 4.943637399999545|    195.89999999999992| 6.576603599999951|                  0.0|              0.0|     88.6000000000012|     68.0500000000012|\n",
            "|    10| 919.650000000002|  77.0360000000015|                  70.6| 3.825167399999994|                  85.5| 4.764682199999966|                  0.0|              0.0|   22.070000000000228|    32.13000000000024|\n",
            "|    11|915.6400000000099| 45.71599999999757|    241.60000000000005| 5.860782799999633|     265.7999999999999| 8.030614600000042|   0.5499999999999545|           1770.0|    90.56000000000022|     79.0900000000002|\n",
            "|    12|917.3900000000112| 49.78399999999978|    204.10000000000005|1.2750557999995473|    211.79999999999993|  2.01324599999997|                  0.0|              0.0|     73.1500000000012|    58.43000000000119|\n",
            "|    13|920.8200000000083| 62.43799999999798|    213.60000000000005|2.6172197999996376|     165.6999999999999| 3.310671200000037|                  0.0|              0.0|    43.64000000000018|   27.990000000000173|\n",
            "|    14|911.0000000000076| 86.43199999999833|    202.90000000000003|1.2079475999998548|     162.8999999999999| 1.677704999999817|                  0.0|              0.0|   15.189999999999962|   24.369999999999948|\n",
            "|    15|922.3831311993919| 70.86526349026626|    36.174174777424966|1.8472780842202248|     58.42863248830409| 2.529142073698898|                  0.0|              0.0|   12.110889335294598|   14.801705962979918|\n",
            "|    16|917.8900000000048|              null|                 169.2|2.1922011999998263|     196.7999999999999|2.9303914000000866|                  0.0|              0.0|   48.989999999999846|    51.18999999999985|\n",
            "|    17|916.9152553899988| 77.01896058080769|    234.53934498620535|   2.2747252969339|     229.4741986768941| 2.906513109197139|                  0.0|              0.0|   21.031461768790646|    20.75568332171184|\n",
            "|    18|918.8000000000037| 67.08200000000228|                 176.1| 4.876529199999688|    183.39999999999984| 5.569980599999913|                  0.0|              0.0|    18.90000000000005|    45.87000000000005|\n",
            "|    19|922.0400000000093|  68.5759999999986|     58.30000000000005|  9.55173379999966|      81.8999999999999|12.571602800000015|                  0.0|              0.0|    7.540000000000102|    7.740000000000088|\n",
            "+------+-----------------+------------------+----------------------+------------------+----------------------+------------------+---------------------+-----------------+---------------------+---------------------+\n",
            "only showing top 20 rows\n",
            "\n"
          ]
        }
      ]
    },
    {
      "cell_type": "code",
      "source": [
        "df.columns # просмотреть столбцы"
      ],
      "metadata": {
        "colab": {
          "base_uri": "https://localhost:8080/"
        },
        "id": "-5znc0EmGdWu",
        "outputId": "d1ef248e-9db3-4f29-fa38-24703c9a064a"
      },
      "execution_count": 6,
      "outputs": [
        {
          "output_type": "execute_result",
          "data": {
            "text/plain": [
              "['number',\n",
              " 'air_pressure_9am',\n",
              " 'air_temp_9am',\n",
              " 'avg_wind_direction_9am',\n",
              " 'avg_wind_speed_9am',\n",
              " 'max_wind_direction_9am',\n",
              " 'max_wind_speed_9am',\n",
              " 'rain_accumulation_9am',\n",
              " 'rain_duration_9am',\n",
              " 'relative_humidity_9am',\n",
              " 'relative_humidity_3pm']"
            ]
          },
          "metadata": {},
          "execution_count": 6
        }
      ]
    },
    {
      "cell_type": "code",
      "source": [
        "df.printSchema() # вывод типов данных столбцов"
      ],
      "metadata": {
        "colab": {
          "base_uri": "https://localhost:8080/"
        },
        "id": "nrGrSHEAGgYp",
        "outputId": "ec6a2ad5-30a5-4074-d996-5fb2835cb008"
      },
      "execution_count": 7,
      "outputs": [
        {
          "output_type": "stream",
          "name": "stdout",
          "text": [
            "root\n",
            " |-- number: integer (nullable = true)\n",
            " |-- air_pressure_9am: double (nullable = true)\n",
            " |-- air_temp_9am: double (nullable = true)\n",
            " |-- avg_wind_direction_9am: double (nullable = true)\n",
            " |-- avg_wind_speed_9am: double (nullable = true)\n",
            " |-- max_wind_direction_9am: double (nullable = true)\n",
            " |-- max_wind_speed_9am: double (nullable = true)\n",
            " |-- rain_accumulation_9am: double (nullable = true)\n",
            " |-- rain_duration_9am: double (nullable = true)\n",
            " |-- relative_humidity_9am: double (nullable = true)\n",
            " |-- relative_humidity_3pm: double (nullable = true)\n",
            "\n"
          ]
        }
      ]
    },
    {
      "cell_type": "code",
      "source": [
        "df.describe().toPandas().transpose() # сводная статистика по датафрейму"
      ],
      "metadata": {
        "colab": {
          "base_uri": "https://localhost:8080/",
          "height": 426
        },
        "id": "ggul3yJMGi-A",
        "outputId": "3f117abb-b76e-4c37-cff0-56349d8b2b06"
      },
      "execution_count": 8,
      "outputs": [
        {
          "output_type": "execute_result",
          "data": {
            "text/plain": [
              "                            0                    1                   2  \\\n",
              "summary                 count                 mean              stddev   \n",
              "number                   1095                547.0  316.24357700987383   \n",
              "air_pressure_9am         1092    918.8825513138094   3.184161180386833   \n",
              "air_temp_9am             1090    64.93300141287072  11.175514003175877   \n",
              "avg_wind_direction_9am   1091    142.2355107005759   69.13785928889189   \n",
              "avg_wind_speed_9am       1092     5.50828424225493  4.5528134655317185   \n",
              "max_wind_direction_9am   1092   148.95351796516923   67.23801294602953   \n",
              "max_wind_speed_9am       1091    7.019513529175272   5.598209170780958   \n",
              "rain_accumulation_9am    1089  0.20307895225211126  1.5939521253574893   \n",
              "rain_duration_9am        1092    294.1080522756142  1598.0787786601481   \n",
              "relative_humidity_9am    1095    34.24140205923536  25.472066802250055   \n",
              "relative_humidity_3pm    1095    35.34472714825898  22.524079453587273   \n",
              "\n",
              "                                         3                   4  \n",
              "summary                                min                 max  \n",
              "number                                   0                1094  \n",
              "air_pressure_9am         907.9900000000024   929.3200000000012  \n",
              "air_temp_9am            36.752000000000685   98.90599999999992  \n",
              "avg_wind_direction_9am  15.500000000000046               343.4  \n",
              "avg_wind_speed_9am        0.69345139999974  23.554978199999763  \n",
              "max_wind_direction_9am   28.89999999999991  312.19999999999993  \n",
              "max_wind_speed_9am      1.1855782000000479   29.84077959999996  \n",
              "rain_accumulation_9am                  0.0   24.01999999999907  \n",
              "rain_duration_9am                      0.0             17704.0  \n",
              "relative_humidity_9am    6.090000000001012    92.6200000000002  \n",
              "relative_humidity_3pm   5.3000000000006855    92.2500000000003  "
            ],
            "text/html": [
              "\n",
              "  <div id=\"df-0ee1ebc8-c258-42d0-b1db-736fe3e5fd8c\">\n",
              "    <div class=\"colab-df-container\">\n",
              "      <div>\n",
              "<style scoped>\n",
              "    .dataframe tbody tr th:only-of-type {\n",
              "        vertical-align: middle;\n",
              "    }\n",
              "\n",
              "    .dataframe tbody tr th {\n",
              "        vertical-align: top;\n",
              "    }\n",
              "\n",
              "    .dataframe thead th {\n",
              "        text-align: right;\n",
              "    }\n",
              "</style>\n",
              "<table border=\"1\" class=\"dataframe\">\n",
              "  <thead>\n",
              "    <tr style=\"text-align: right;\">\n",
              "      <th></th>\n",
              "      <th>0</th>\n",
              "      <th>1</th>\n",
              "      <th>2</th>\n",
              "      <th>3</th>\n",
              "      <th>4</th>\n",
              "    </tr>\n",
              "  </thead>\n",
              "  <tbody>\n",
              "    <tr>\n",
              "      <th>summary</th>\n",
              "      <td>count</td>\n",
              "      <td>mean</td>\n",
              "      <td>stddev</td>\n",
              "      <td>min</td>\n",
              "      <td>max</td>\n",
              "    </tr>\n",
              "    <tr>\n",
              "      <th>number</th>\n",
              "      <td>1095</td>\n",
              "      <td>547.0</td>\n",
              "      <td>316.24357700987383</td>\n",
              "      <td>0</td>\n",
              "      <td>1094</td>\n",
              "    </tr>\n",
              "    <tr>\n",
              "      <th>air_pressure_9am</th>\n",
              "      <td>1092</td>\n",
              "      <td>918.8825513138094</td>\n",
              "      <td>3.184161180386833</td>\n",
              "      <td>907.9900000000024</td>\n",
              "      <td>929.3200000000012</td>\n",
              "    </tr>\n",
              "    <tr>\n",
              "      <th>air_temp_9am</th>\n",
              "      <td>1090</td>\n",
              "      <td>64.93300141287072</td>\n",
              "      <td>11.175514003175877</td>\n",
              "      <td>36.752000000000685</td>\n",
              "      <td>98.90599999999992</td>\n",
              "    </tr>\n",
              "    <tr>\n",
              "      <th>avg_wind_direction_9am</th>\n",
              "      <td>1091</td>\n",
              "      <td>142.2355107005759</td>\n",
              "      <td>69.13785928889189</td>\n",
              "      <td>15.500000000000046</td>\n",
              "      <td>343.4</td>\n",
              "    </tr>\n",
              "    <tr>\n",
              "      <th>avg_wind_speed_9am</th>\n",
              "      <td>1092</td>\n",
              "      <td>5.50828424225493</td>\n",
              "      <td>4.5528134655317185</td>\n",
              "      <td>0.69345139999974</td>\n",
              "      <td>23.554978199999763</td>\n",
              "    </tr>\n",
              "    <tr>\n",
              "      <th>max_wind_direction_9am</th>\n",
              "      <td>1092</td>\n",
              "      <td>148.95351796516923</td>\n",
              "      <td>67.23801294602953</td>\n",
              "      <td>28.89999999999991</td>\n",
              "      <td>312.19999999999993</td>\n",
              "    </tr>\n",
              "    <tr>\n",
              "      <th>max_wind_speed_9am</th>\n",
              "      <td>1091</td>\n",
              "      <td>7.019513529175272</td>\n",
              "      <td>5.598209170780958</td>\n",
              "      <td>1.1855782000000479</td>\n",
              "      <td>29.84077959999996</td>\n",
              "    </tr>\n",
              "    <tr>\n",
              "      <th>rain_accumulation_9am</th>\n",
              "      <td>1089</td>\n",
              "      <td>0.20307895225211126</td>\n",
              "      <td>1.5939521253574893</td>\n",
              "      <td>0.0</td>\n",
              "      <td>24.01999999999907</td>\n",
              "    </tr>\n",
              "    <tr>\n",
              "      <th>rain_duration_9am</th>\n",
              "      <td>1092</td>\n",
              "      <td>294.1080522756142</td>\n",
              "      <td>1598.0787786601481</td>\n",
              "      <td>0.0</td>\n",
              "      <td>17704.0</td>\n",
              "    </tr>\n",
              "    <tr>\n",
              "      <th>relative_humidity_9am</th>\n",
              "      <td>1095</td>\n",
              "      <td>34.24140205923536</td>\n",
              "      <td>25.472066802250055</td>\n",
              "      <td>6.090000000001012</td>\n",
              "      <td>92.6200000000002</td>\n",
              "    </tr>\n",
              "    <tr>\n",
              "      <th>relative_humidity_3pm</th>\n",
              "      <td>1095</td>\n",
              "      <td>35.34472714825898</td>\n",
              "      <td>22.524079453587273</td>\n",
              "      <td>5.3000000000006855</td>\n",
              "      <td>92.2500000000003</td>\n",
              "    </tr>\n",
              "  </tbody>\n",
              "</table>\n",
              "</div>\n",
              "      <button class=\"colab-df-convert\" onclick=\"convertToInteractive('df-0ee1ebc8-c258-42d0-b1db-736fe3e5fd8c')\"\n",
              "              title=\"Convert this dataframe to an interactive table.\"\n",
              "              style=\"display:none;\">\n",
              "        \n",
              "  <svg xmlns=\"http://www.w3.org/2000/svg\" height=\"24px\"viewBox=\"0 0 24 24\"\n",
              "       width=\"24px\">\n",
              "    <path d=\"M0 0h24v24H0V0z\" fill=\"none\"/>\n",
              "    <path d=\"M18.56 5.44l.94 2.06.94-2.06 2.06-.94-2.06-.94-.94-2.06-.94 2.06-2.06.94zm-11 1L8.5 8.5l.94-2.06 2.06-.94-2.06-.94L8.5 2.5l-.94 2.06-2.06.94zm10 10l.94 2.06.94-2.06 2.06-.94-2.06-.94-.94-2.06-.94 2.06-2.06.94z\"/><path d=\"M17.41 7.96l-1.37-1.37c-.4-.4-.92-.59-1.43-.59-.52 0-1.04.2-1.43.59L10.3 9.45l-7.72 7.72c-.78.78-.78 2.05 0 2.83L4 21.41c.39.39.9.59 1.41.59.51 0 1.02-.2 1.41-.59l7.78-7.78 2.81-2.81c.8-.78.8-2.07 0-2.86zM5.41 20L4 18.59l7.72-7.72 1.47 1.35L5.41 20z\"/>\n",
              "  </svg>\n",
              "      </button>\n",
              "      \n",
              "  <style>\n",
              "    .colab-df-container {\n",
              "      display:flex;\n",
              "      flex-wrap:wrap;\n",
              "      gap: 12px;\n",
              "    }\n",
              "\n",
              "    .colab-df-convert {\n",
              "      background-color: #E8F0FE;\n",
              "      border: none;\n",
              "      border-radius: 50%;\n",
              "      cursor: pointer;\n",
              "      display: none;\n",
              "      fill: #1967D2;\n",
              "      height: 32px;\n",
              "      padding: 0 0 0 0;\n",
              "      width: 32px;\n",
              "    }\n",
              "\n",
              "    .colab-df-convert:hover {\n",
              "      background-color: #E2EBFA;\n",
              "      box-shadow: 0px 1px 2px rgba(60, 64, 67, 0.3), 0px 1px 3px 1px rgba(60, 64, 67, 0.15);\n",
              "      fill: #174EA6;\n",
              "    }\n",
              "\n",
              "    [theme=dark] .colab-df-convert {\n",
              "      background-color: #3B4455;\n",
              "      fill: #D2E3FC;\n",
              "    }\n",
              "\n",
              "    [theme=dark] .colab-df-convert:hover {\n",
              "      background-color: #434B5C;\n",
              "      box-shadow: 0px 1px 3px 1px rgba(0, 0, 0, 0.15);\n",
              "      filter: drop-shadow(0px 1px 2px rgba(0, 0, 0, 0.3));\n",
              "      fill: #FFFFFF;\n",
              "    }\n",
              "  </style>\n",
              "\n",
              "      <script>\n",
              "        const buttonEl =\n",
              "          document.querySelector('#df-0ee1ebc8-c258-42d0-b1db-736fe3e5fd8c button.colab-df-convert');\n",
              "        buttonEl.style.display =\n",
              "          google.colab.kernel.accessAllowed ? 'block' : 'none';\n",
              "\n",
              "        async function convertToInteractive(key) {\n",
              "          const element = document.querySelector('#df-0ee1ebc8-c258-42d0-b1db-736fe3e5fd8c');\n",
              "          const dataTable =\n",
              "            await google.colab.kernel.invokeFunction('convertToInteractive',\n",
              "                                                     [key], {});\n",
              "          if (!dataTable) return;\n",
              "\n",
              "          const docLinkHtml = 'Like what you see? Visit the ' +\n",
              "            '<a target=\"_blank\" href=https://colab.research.google.com/notebooks/data_table.ipynb>data table notebook</a>'\n",
              "            + ' to learn more about interactive tables.';\n",
              "          element.innerHTML = '';\n",
              "          dataTable['output_type'] = 'display_data';\n",
              "          await google.colab.output.renderOutput(dataTable, element);\n",
              "          const docLink = document.createElement('div');\n",
              "          docLink.innerHTML = docLinkHtml;\n",
              "          element.appendChild(docLink);\n",
              "        }\n",
              "      </script>\n",
              "    </div>\n",
              "  </div>\n",
              "  "
            ]
          },
          "metadata": {},
          "execution_count": 8
        }
      ]
    },
    {
      "cell_type": "code",
      "source": [
        "df.describe(['air_temp_9am']).show() # сводная статистика по отдельному столбцу"
      ],
      "metadata": {
        "colab": {
          "base_uri": "https://localhost:8080/"
        },
        "id": "O9NC2FmgGmRr",
        "outputId": "3e41e651-8481-463e-f1dc-bdce9e0a48d5"
      },
      "execution_count": 9,
      "outputs": [
        {
          "output_type": "stream",
          "name": "stdout",
          "text": [
            "+-------+------------------+\n",
            "|summary|      air_temp_9am|\n",
            "+-------+------------------+\n",
            "|  count|              1090|\n",
            "|   mean| 64.93300141287072|\n",
            "| stddev|11.175514003175877|\n",
            "|    min|36.752000000000685|\n",
            "|    max| 98.90599999999992|\n",
            "+-------+------------------+\n",
            "\n"
          ]
        }
      ]
    },
    {
      "cell_type": "code",
      "source": [
        "len(df.columns) # количество столбцов "
      ],
      "metadata": {
        "colab": {
          "base_uri": "https://localhost:8080/"
        },
        "id": "QqKy4k88Gopl",
        "outputId": "01f1fb11-c9ca-439b-f229-85a9e3ae40ec"
      },
      "execution_count": 10,
      "outputs": [
        {
          "output_type": "execute_result",
          "data": {
            "text/plain": [
              "11"
            ]
          },
          "metadata": {},
          "execution_count": 10
        }
      ]
    },
    {
      "cell_type": "code",
      "source": [
        "df.count() # количество строк"
      ],
      "metadata": {
        "colab": {
          "base_uri": "https://localhost:8080/"
        },
        "id": "B64BlHRDGq5K",
        "outputId": "975d222a-3866-4b73-c1d6-23f442c83fb3"
      },
      "execution_count": 11,
      "outputs": [
        {
          "output_type": "execute_result",
          "data": {
            "text/plain": [
              "1095"
            ]
          },
          "metadata": {},
          "execution_count": 11
        }
      ]
    },
    {
      "cell_type": "code",
      "source": [
        "# удалим строки с пропущенными значениями в столбце air_pressure_9am\n",
        "df2=df.na.drop(subset=['air_temp_9am'])"
      ],
      "metadata": {
        "id": "w0ueRgfGGtfN"
      },
      "execution_count": 12,
      "outputs": []
    },
    {
      "cell_type": "code",
      "source": [
        "df2.count()"
      ],
      "metadata": {
        "colab": {
          "base_uri": "https://localhost:8080/"
        },
        "id": "sEUu5XMQGxG5",
        "outputId": "311a4179-1386-413d-b9cd-b04630f8b6ae"
      },
      "execution_count": 13,
      "outputs": [
        {
          "output_type": "execute_result",
          "data": {
            "text/plain": [
              "1090"
            ]
          },
          "metadata": {},
          "execution_count": 13
        }
      ]
    },
    {
      "cell_type": "code",
      "source": [
        "from pyspark.sql.functions import avg\n",
        "\n",
        "imputeDF = df"
      ],
      "metadata": {
        "id": "Zkio_aG2Gzid"
      },
      "execution_count": 14,
      "outputs": []
    },
    {
      "cell_type": "code",
      "source": [
        "for x in imputeDF.columns:\n",
        "    meanValue = df2.agg(avg(x)).first()[0]\n",
        "    print(x, meanValue)\n",
        "    imputeDF = imputeDF.na.fill(meanValue, [x])"
      ],
      "metadata": {
        "colab": {
          "base_uri": "https://localhost:8080/"
        },
        "id": "jLA1zHQcG2KL",
        "outputId": "6d01a2cb-c806-4682-9524-7ff76bd940c2"
      },
      "execution_count": 15,
      "outputs": [
        {
          "output_type": "stream",
          "name": "stdout",
          "text": [
            "number 546.8256880733945\n",
            "air_pressure_9am 918.8833281182478\n",
            "air_temp_9am 64.93300141287072\n",
            "avg_wind_direction_9am 142.19559679647966\n",
            "avg_wind_speed_9am 5.516615074808091\n",
            "max_wind_direction_9am 148.87405226312185\n",
            "max_wind_speed_9am 7.030251646918073\n",
            "rain_accumulation_9am 0.20401566328648446\n",
            "rain_duration_9am 295.460895202365\n",
            "relative_humidity_9am 34.286931549494355\n",
            "relative_humidity_3pm 35.37023074361628\n"
          ]
        }
      ]
    },
    {
      "cell_type": "code",
      "source": [
        "df.describe(['air_temp_9am']).show()\n",
        "imputeDF.describe(['air_temp_9am']).show()"
      ],
      "metadata": {
        "colab": {
          "base_uri": "https://localhost:8080/"
        },
        "id": "f1uP7Q6oG4k1",
        "outputId": "ccaf2359-7265-4c6c-b7b8-1b8fadb1fd0c"
      },
      "execution_count": 16,
      "outputs": [
        {
          "output_type": "stream",
          "name": "stdout",
          "text": [
            "+-------+------------------+\n",
            "|summary|      air_temp_9am|\n",
            "+-------+------------------+\n",
            "|  count|              1090|\n",
            "|   mean| 64.93300141287072|\n",
            "| stddev|11.175514003175877|\n",
            "|    min|36.752000000000685|\n",
            "|    max| 98.90599999999992|\n",
            "+-------+------------------+\n",
            "\n",
            "+-------+------------------+\n",
            "|summary|      air_temp_9am|\n",
            "+-------+------------------+\n",
            "|  count|              1095|\n",
            "|   mean| 64.93300141287071|\n",
            "| stddev|11.149946561759078|\n",
            "|    min|36.752000000000685|\n",
            "|    max| 98.90599999999992|\n",
            "+-------+------------------+\n",
            "\n"
          ]
        }
      ]
    },
    {
      "cell_type": "code",
      "source": [
        "from matplotlib import pyplot as plt\n",
        "\n",
        "sec_df =  df.select([ 'number',\n",
        "                      'air_pressure_9am',\n",
        "                      'air_temp_9am',\n",
        "                      'avg_wind_direction_9am',\n",
        "                      'avg_wind_speed_9am',\n",
        "                      'max_wind_direction_9am',\n",
        "                      'max_wind_speed_9am',\n",
        "                      'rain_duration_9am',\n",
        "                      'relative_humidity_9am',\n",
        "                      'relative_humidity_3pm']\n",
        "                     )\\\n",
        "                     .groupBy('number')\\\n",
        "                     .mean()\\\n",
        "                     .toPandas()\n",
        "\n",
        "ind = list(range(12))\n",
        "ind.pop(6)\n",
        "\n",
        "sec_df.iloc[ind ,:].plot(kind='bar', x='number', y=sec_df.columns.tolist()[1:], figsize=(20, 10))\n",
        "plt.show()"
      ],
      "metadata": {
        "colab": {
          "base_uri": "https://localhost:8080/",
          "height": 558
        },
        "id": "aw0LUk9qHFfo",
        "outputId": "7d45d2c0-b5e1-4974-d867-d806bbd27764"
      },
      "execution_count": 47,
      "outputs": [
        {
          "output_type": "display_data",
          "data": {
            "text/plain": [
              "<Figure size 1440x720 with 1 Axes>"
            ],
            "image/png": "[encoded data removed]"
          },
          "metadata": {
            "needs_background": "light"
          }
        }
      ]
    },
    {
      "cell_type": "code",
      "source": [
        "df2.stat.corr(\"rain_accumulation_9am\", \"rain_duration_9am\")"
      ],
      "metadata": {
        "colab": {
          "base_uri": "https://localhost:8080/"
        },
        "id": "thzB-HvOIggc",
        "outputId": "0ebe0c13-aa5b-4d7d-af3b-6dbea6852b70"
      },
      "execution_count": 48,
      "outputs": [
        {
          "output_type": "execute_result",
          "data": {
            "text/plain": [
              "0.7337737589869374"
            ]
          },
          "metadata": {},
          "execution_count": 48
        }
      ]
    },
    {
      "cell_type": "markdown",
      "source": [
        "Part **2**\n",
        "\n",
        "У меня не получилось скачать датасет с kaggle поэтому остальные задания сделала так же на датасете про погоду"
      ],
      "metadata": {
        "id": "nVLIeVCM1Fjt"
      }
    },
    {
      "cell_type": "code",
      "source": [
        "import pandas as pd\n",
        "import numpy as np"
      ],
      "metadata": {
        "id": "4piMGCS5FuxC"
      },
      "execution_count": 82,
      "outputs": []
    },
    {
      "cell_type": "code",
      "source": [
        "df3 = df2.toPandas()"
      ],
      "metadata": {
        "id": "lJqvnqHOBF6R"
      },
      "execution_count": 55,
      "outputs": []
    },
    {
      "cell_type": "code",
      "source": [
        "from sklearn.preprocessing import StandardScaler\n",
        "\n",
        "std_scaler = StandardScaler()\n",
        "std_scaler\n",
        "df_std = pd.DataFrame(std_scaler.fit_transform(df3), columns=df3.columns)\n",
        "\n",
        "df_std"
      ],
      "metadata": {
        "colab": {
          "base_uri": "https://localhost:8080/",
          "height": 488
        },
        "id": "09_Je8UoAYn0",
        "outputId": "c25a9786-da53-4403-9a15-0c23cb76be37"
      },
      "execution_count": 64,
      "outputs": [
        {
          "output_type": "execute_result",
          "data": {
            "text/plain": [
              "        number  air_pressure_9am  air_temp_9am  avg_wind_direction_9am  \\\n",
              "0    -1.732609         -0.258387      0.885287                1.863495   \n",
              "1    -1.729440         -0.481934      0.579285               -0.582021   \n",
              "2    -1.726272          1.304498     -0.384499               -1.318361   \n",
              "3    -1.723103          0.508227      0.466044                0.818761   \n",
              "4    -1.719935          0.714493     -1.847653                1.960353   \n",
              "...        ...               ...           ...                     ...   \n",
              "1085  1.721040          0.005232     -0.163737                0.733004   \n",
              "1086  1.724208         -0.054396     -1.375512                1.437031   \n",
              "1087  1.727377         -0.716582      0.551727                0.680961   \n",
              "1088  1.730545         -1.971912     -0.584313                0.440984   \n",
              "1089  1.733714          0.830612      1.143112               -0.651921   \n",
              "\n",
              "      avg_wind_speed_9am  max_wind_direction_9am  max_wind_speed_9am  \\\n",
              "0              -0.754148                2.178348           -0.743773   \n",
              "1              -0.674557               -0.124917           -0.624176   \n",
              "2               2.535124               -1.266252            2.690011   \n",
              "3              -0.258808                0.926627           -0.328463   \n",
              "4              -0.803242               -0.183961           -0.743773   \n",
              "...                  ...                     ...                 ...   \n",
              "1085           -0.361400                0.868597           -0.324532   \n",
              "1086           -0.813061                1.167417           -0.831614   \n",
              "1087           -0.538137                0.771964           -0.560106   \n",
              "1088           -0.371218                0.598025           -0.404387   \n",
              "1089           -0.493952               -0.341547           -0.460286   \n",
              "\n",
              "      rain_accumulation_9am  rain_duration_9am  relative_humidity_9am  \\\n",
              "0                 -0.127763          -0.184560               0.319036   \n",
              "1                 -0.127763          -0.184560              -0.390631   \n",
              "2                 -0.127763          -0.172067              -0.995852   \n",
              "3                 -0.127763          -0.184560              -0.866831   \n",
              "4                  5.445778           9.016563               2.279991   \n",
              "...                     ...                ...                    ...   \n",
              "1085              -0.127763          -0.184560              -0.324287   \n",
              "1086              -0.127763          -0.184560               2.199184   \n",
              "1087              -0.127763          -0.184560               0.443385   \n",
              "1088              -0.127763          -0.184560               1.198504   \n",
              "1089              -0.127763          -0.184560              -0.773828   \n",
              "\n",
              "      relative_humidity_3pm  \n",
              "0                  0.035043  \n",
              "1                 -0.707445  \n",
              "2                 -0.927821  \n",
              "3                 -1.004027  \n",
              "4                  1.835644  \n",
              "...                     ...  \n",
              "1085               0.124674  \n",
              "1086               1.684780  \n",
              "1087               0.751645  \n",
              "1088               1.016544  \n",
              "1089              -0.899423  \n",
              "\n",
              "[1090 rows x 11 columns]"
            ],
            "text/html": [
              "\n",
              "  <div id=\"df-b1282bf5-fbb9-44e5-b0b1-dd2cee486b92\">\n",
              "    <div class=\"colab-df-container\">\n",
              "      <div>\n",
              "<style scoped>\n",
              "    .dataframe tbody tr th:only-of-type {\n",
              "        vertical-align: middle;\n",
              "    }\n",
              "\n",
              "    .dataframe tbody tr th {\n",
              "        vertical-align: top;\n",
              "    }\n",
              "\n",
              "    .dataframe thead th {\n",
              "        text-align: right;\n",
              "    }\n",
              "</style>\n",
              "<table border=\"1\" class=\"dataframe\">\n",
              "  <thead>\n",
              "    <tr style=\"text-align: right;\">\n",
              "      <th></th>\n",
              "      <th>number</th>\n",
              "      <th>air_pressure_9am</th>\n",
              "      <th>air_temp_9am</th>\n",
              "      <th>avg_wind_direction_9am</th>\n",
              "      <th>avg_wind_speed_9am</th>\n",
              "      <th>max_wind_direction_9am</th>\n",
              "      <th>max_wind_speed_9am</th>\n",
              "      <th>rain_accumulation_9am</th>\n",
              "      <th>rain_duration_9am</th>\n",
              "      <th>relative_humidity_9am</th>\n",
              "      <th>relative_humidity_3pm</th>\n",
              "    </tr>\n",
              "  </thead>\n",
              "  <tbody>\n",
              "    <tr>\n",
              "      <th>0</th>\n",
              "      <td>-1.732609</td>\n",
              "      <td>-0.258387</td>\n",
              "      <td>0.885287</td>\n",
              "      <td>1.863495</td>\n",
              "      <td>-0.754148</td>\n",
              "      <td>2.178348</td>\n",
              "      <td>-0.743773</td>\n",
              "      <td>-0.127763</td>\n",
              "      <td>-0.184560</td>\n",
              "      <td>0.319036</td>\n",
              "      <td>0.035043</td>\n",
              "    </tr>\n",
              "    <tr>\n",
              "      <th>1</th>\n",
              "      <td>-1.729440</td>\n",
              "      <td>-0.481934</td>\n",
              "      <td>0.579285</td>\n",
              "      <td>-0.582021</td>\n",
              "      <td>-0.674557</td>\n",
              "      <td>-0.124917</td>\n",
              "      <td>-0.624176</td>\n",
              "      <td>-0.127763</td>\n",
              "      <td>-0.184560</td>\n",
              "      <td>-0.390631</td>\n",
              "      <td>-0.707445</td>\n",
              "    </tr>\n",
              "    <tr>\n",
              "      <th>2</th>\n",
              "      <td>-1.726272</td>\n",
              "      <td>1.304498</td>\n",
              "      <td>-0.384499</td>\n",
              "      <td>-1.318361</td>\n",
              "      <td>2.535124</td>\n",
              "      <td>-1.266252</td>\n",
              "      <td>2.690011</td>\n",
              "      <td>-0.127763</td>\n",
              "      <td>-0.172067</td>\n",
              "      <td>-0.995852</td>\n",
              "      <td>-0.927821</td>\n",
              "    </tr>\n",
              "    <tr>\n",
              "      <th>3</th>\n",
              "      <td>-1.723103</td>\n",
              "      <td>0.508227</td>\n",
              "      <td>0.466044</td>\n",
              "      <td>0.818761</td>\n",
              "      <td>-0.258808</td>\n",
              "      <td>0.926627</td>\n",
              "      <td>-0.328463</td>\n",
              "      <td>-0.127763</td>\n",
              "      <td>-0.184560</td>\n",
              "      <td>-0.866831</td>\n",
              "      <td>-1.004027</td>\n",
              "    </tr>\n",
              "    <tr>\n",
              "      <th>4</th>\n",
              "      <td>-1.719935</td>\n",
              "      <td>0.714493</td>\n",
              "      <td>-1.847653</td>\n",
              "      <td>1.960353</td>\n",
              "      <td>-0.803242</td>\n",
              "      <td>-0.183961</td>\n",
              "      <td>-0.743773</td>\n",
              "      <td>5.445778</td>\n",
              "      <td>9.016563</td>\n",
              "      <td>2.279991</td>\n",
              "      <td>1.835644</td>\n",
              "    </tr>\n",
              "    <tr>\n",
              "      <th>...</th>\n",
              "      <td>...</td>\n",
              "      <td>...</td>\n",
              "      <td>...</td>\n",
              "      <td>...</td>\n",
              "      <td>...</td>\n",
              "      <td>...</td>\n",
              "      <td>...</td>\n",
              "      <td>...</td>\n",
              "      <td>...</td>\n",
              "      <td>...</td>\n",
              "      <td>...</td>\n",
              "    </tr>\n",
              "    <tr>\n",
              "      <th>1085</th>\n",
              "      <td>1.721040</td>\n",
              "      <td>0.005232</td>\n",
              "      <td>-0.163737</td>\n",
              "      <td>0.733004</td>\n",
              "      <td>-0.361400</td>\n",
              "      <td>0.868597</td>\n",
              "      <td>-0.324532</td>\n",
              "      <td>-0.127763</td>\n",
              "      <td>-0.184560</td>\n",
              "      <td>-0.324287</td>\n",
              "      <td>0.124674</td>\n",
              "    </tr>\n",
              "    <tr>\n",
              "      <th>1086</th>\n",
              "      <td>1.724208</td>\n",
              "      <td>-0.054396</td>\n",
              "      <td>-1.375512</td>\n",
              "      <td>1.437031</td>\n",
              "      <td>-0.813061</td>\n",
              "      <td>1.167417</td>\n",
              "      <td>-0.831614</td>\n",
              "      <td>-0.127763</td>\n",
              "      <td>-0.184560</td>\n",
              "      <td>2.199184</td>\n",
              "      <td>1.684780</td>\n",
              "    </tr>\n",
              "    <tr>\n",
              "      <th>1087</th>\n",
              "      <td>1.727377</td>\n",
              "      <td>-0.716582</td>\n",
              "      <td>0.551727</td>\n",
              "      <td>0.680961</td>\n",
              "      <td>-0.538137</td>\n",
              "      <td>0.771964</td>\n",
              "      <td>-0.560106</td>\n",
              "      <td>-0.127763</td>\n",
              "      <td>-0.184560</td>\n",
              "      <td>0.443385</td>\n",
              "      <td>0.751645</td>\n",
              "    </tr>\n",
              "    <tr>\n",
              "      <th>1088</th>\n",
              "      <td>1.730545</td>\n",
              "      <td>-1.971912</td>\n",
              "      <td>-0.584313</td>\n",
              "      <td>0.440984</td>\n",
              "      <td>-0.371218</td>\n",
              "      <td>0.598025</td>\n",
              "      <td>-0.404387</td>\n",
              "      <td>-0.127763</td>\n",
              "      <td>-0.184560</td>\n",
              "      <td>1.198504</td>\n",
              "      <td>1.016544</td>\n",
              "    </tr>\n",
              "    <tr>\n",
              "      <th>1089</th>\n",
              "      <td>1.733714</td>\n",
              "      <td>0.830612</td>\n",
              "      <td>1.143112</td>\n",
              "      <td>-0.651921</td>\n",
              "      <td>-0.493952</td>\n",
              "      <td>-0.341547</td>\n",
              "      <td>-0.460286</td>\n",
              "      <td>-0.127763</td>\n",
              "      <td>-0.184560</td>\n",
              "      <td>-0.773828</td>\n",
              "      <td>-0.899423</td>\n",
              "    </tr>\n",
              "  </tbody>\n",
              "</table>\n",
              "<p>1090 rows × 11 columns</p>\n",
              "</div>\n",
              "      <button class=\"colab-df-convert\" onclick=\"convertToInteractive('df-b1282bf5-fbb9-44e5-b0b1-dd2cee486b92')\"\n",
              "              title=\"Convert this dataframe to an interactive table.\"\n",
              "              style=\"display:none;\">\n",
              "        \n",
              "  <svg xmlns=\"http://www.w3.org/2000/svg\" height=\"24px\"viewBox=\"0 0 24 24\"\n",
              "       width=\"24px\">\n",
              "    <path d=\"M0 0h24v24H0V0z\" fill=\"none\"/>\n",
              "    <path d=\"M18.56 5.44l.94 2.06.94-2.06 2.06-.94-2.06-.94-.94-2.06-.94 2.06-2.06.94zm-11 1L8.5 8.5l.94-2.06 2.06-.94-2.06-.94L8.5 2.5l-.94 2.06-2.06.94zm10 10l.94 2.06.94-2.06 2.06-.94-2.06-.94-.94-2.06-.94 2.06-2.06.94z\"/><path d=\"M17.41 7.96l-1.37-1.37c-.4-.4-.92-.59-1.43-.59-.52 0-1.04.2-1.43.59L10.3 9.45l-7.72 7.72c-.78.78-.78 2.05 0 2.83L4 21.41c.39.39.9.59 1.41.59.51 0 1.02-.2 1.41-.59l7.78-7.78 2.81-2.81c.8-.78.8-2.07 0-2.86zM5.41 20L4 18.59l7.72-7.72 1.47 1.35L5.41 20z\"/>\n",
              "  </svg>\n",
              "      </button>\n",
              "      \n",
              "  <style>\n",
              "    .colab-df-container {\n",
              "      display:flex;\n",
              "      flex-wrap:wrap;\n",
              "      gap: 12px;\n",
              "    }\n",
              "\n",
              "    .colab-df-convert {\n",
              "      background-color: #E8F0FE;\n",
              "      border: none;\n",
              "      border-radius: 50%;\n",
              "      cursor: pointer;\n",
              "      display: none;\n",
              "      fill: #1967D2;\n",
              "      height: 32px;\n",
              "      padding: 0 0 0 0;\n",
              "      width: 32px;\n",
              "    }\n",
              "\n",
              "    .colab-df-convert:hover {\n",
              "      background-color: #E2EBFA;\n",
              "      box-shadow: 0px 1px 2px rgba(60, 64, 67, 0.3), 0px 1px 3px 1px rgba(60, 64, 67, 0.15);\n",
              "      fill: #174EA6;\n",
              "    }\n",
              "\n",
              "    [theme=dark] .colab-df-convert {\n",
              "      background-color: #3B4455;\n",
              "      fill: #D2E3FC;\n",
              "    }\n",
              "\n",
              "    [theme=dark] .colab-df-convert:hover {\n",
              "      background-color: #434B5C;\n",
              "      box-shadow: 0px 1px 3px 1px rgba(0, 0, 0, 0.15);\n",
              "      filter: drop-shadow(0px 1px 2px rgba(0, 0, 0, 0.3));\n",
              "      fill: #FFFFFF;\n",
              "    }\n",
              "  </style>\n",
              "\n",
              "      <script>\n",
              "        const buttonEl =\n",
              "          document.querySelector('#df-b1282bf5-fbb9-44e5-b0b1-dd2cee486b92 button.colab-df-convert');\n",
              "        buttonEl.style.display =\n",
              "          google.colab.kernel.accessAllowed ? 'block' : 'none';\n",
              "\n",
              "        async function convertToInteractive(key) {\n",
              "          const element = document.querySelector('#df-b1282bf5-fbb9-44e5-b0b1-dd2cee486b92');\n",
              "          const dataTable =\n",
              "            await google.colab.kernel.invokeFunction('convertToInteractive',\n",
              "                                                     [key], {});\n",
              "          if (!dataTable) return;\n",
              "\n",
              "          const docLinkHtml = 'Like what you see? Visit the ' +\n",
              "            '<a target=\"_blank\" href=https://colab.research.google.com/notebooks/data_table.ipynb>data table notebook</a>'\n",
              "            + ' to learn more about interactive tables.';\n",
              "          element.innerHTML = '';\n",
              "          dataTable['output_type'] = 'display_data';\n",
              "          await google.colab.output.renderOutput(dataTable, element);\n",
              "          const docLink = document.createElement('div');\n",
              "          docLink.innerHTML = docLinkHtml;\n",
              "          element.appendChild(docLink);\n",
              "        }\n",
              "      </script>\n",
              "    </div>\n",
              "  </div>\n",
              "  "
            ]
          },
          "metadata": {},
          "execution_count": 64
        }
      ]
    },
    {
      "cell_type": "code",
      "source": [
        "plt.boxplot(x=df_std['relative_humidity_9am'])"
      ],
      "metadata": {
        "colab": {
          "base_uri": "https://localhost:8080/",
          "height": 404
        },
        "id": "p4ahXwhFBwdL",
        "outputId": "c0d85343-3840-466c-b63e-71cf14f3595b"
      },
      "execution_count": 87,
      "outputs": [
        {
          "output_type": "execute_result",
          "data": {
            "text/plain": [
              "{'whiskers': [<matplotlib.lines.Line2D at 0x7fc331b0e750>,\n",
              "  <matplotlib.lines.Line2D at 0x7fc331b0e850>],\n",
              " 'caps': [<matplotlib.lines.Line2D at 0x7fc331b0e590>,\n",
              "  <matplotlib.lines.Line2D at 0x7fc331b2b9d0>],\n",
              " 'boxes': [<matplotlib.lines.Line2D at 0x7fc331add210>],\n",
              " 'medians': [<matplotlib.lines.Line2D at 0x7fc331b2bd90>],\n",
              " 'fliers': [<matplotlib.lines.Line2D at 0x7fc341d99ed0>],\n",
              " 'means': []}"
            ]
          },
          "metadata": {},
          "execution_count": 87
        },
        {
          "output_type": "display_data",
          "data": {
            "text/plain": [
              "<Figure size 432x288 with 1 Axes>"
            ],
            "image/png": "[encoded data removed]"
          },
          "metadata": {
            "needs_background": "light"
          }
        }
      ]
    },
    {
      "cell_type": "code",
      "source": [
        "plt.xlabel(\"air_pressure_9am\")\n",
        "plt.ylabel(\"rain_duration_9am\")\n",
        "plt.scatter(x=df_std['air_pressure_9am'], y=df_std[\"rain_duration_9am\"])"
      ],
      "metadata": {
        "colab": {
          "base_uri": "https://localhost:8080/",
          "height": 297
        },
        "id": "j1tFqBhXCzSA",
        "outputId": "ee328f2a-1ee5-4c5b-9bf2-24fd516f6735"
      },
      "execution_count": 80,
      "outputs": [
        {
          "output_type": "execute_result",
          "data": {
            "text/plain": [
              "<matplotlib.collections.PathCollection at 0x7fc331786950>"
            ]
          },
          "metadata": {},
          "execution_count": 80
        },
        {
          "output_type": "display_data",
          "data": {
            "text/plain": [
              "<Figure size 432x288 with 1 Axes>"
            ],
            "image/png": "[encoded data removed]"
          },
          "metadata": {
            "needs_background": "light"
          }
        }
      ]
    },
    {
      "cell_type": "code",
      "source": [
        "ax = df_std.plot(y='air_pressure_9am', x='rain_duration_9am', kind='kde', figsize=(10, 6))\n",
        "arr = ax.get_children()[0]._x\n",
        "plt.xticks(np.linspace(arr[0], arr[-1]), rotation=90)\n",
        "plt.show()"
      ],
      "metadata": {
        "colab": {
          "base_uri": "https://localhost:8080/",
          "height": 395
        },
        "id": "NI-cZm-JE8J1",
        "outputId": "87882926-7b45-4574-d990-2809e49edbde"
      },
      "execution_count": 86,
      "outputs": [
        {
          "output_type": "display_data",
          "data": {
            "text/plain": [
              "<Figure size 720x432 with 1 Axes>"
            ],
            "image/png": "[encoded data removed]"
          },
          "metadata": {
            "needs_background": "light"
          }
        }
      ]
    },
    {
      "cell_type": "code",
      "source": [
        "from sklearn.preprocessing import MinMaxScaler\n",
        "\n",
        "scaler = MinMaxScaler()\n",
        "df_norm = pd.DataFrame(scaler.fit_transform(df3), columns=df3.columns)\n",
        "\n",
        "df_norm"
      ],
      "metadata": {
        "colab": {
          "base_uri": "https://localhost:8080/",
          "height": 488
        },
        "id": "ZLSLO4svAxJV",
        "outputId": "76e8f640-eaec-4167-c2de-653759d6a6e3"
      },
      "execution_count": 85,
      "outputs": [
        {
          "output_type": "execute_result",
          "data": {
            "text/plain": [
              "        number  air_pressure_9am  air_temp_9am  avg_wind_direction_9am  \\\n",
              "0     0.000000          0.472105      0.612511                0.779506   \n",
              "1     0.000914          0.438710      0.557516                0.263602   \n",
              "2     0.001828          0.705579      0.384304                0.108265   \n",
              "3     0.002742          0.586627      0.537164                0.559110   \n",
              "4     0.003656          0.617440      0.121344                0.799939   \n",
              "...        ...               ...           ...                     ...   \n",
              "1085  0.996344          0.511486      0.423979                0.541019   \n",
              "1086  0.997258          0.502579      0.206198                0.689539   \n",
              "1087  0.998172          0.403657      0.552563                0.530040   \n",
              "1088  0.999086          0.216128      0.348393                0.479414   \n",
              "1089  1.000000          0.634787      0.658847                0.248856   \n",
              "\n",
              "      avg_wind_speed_9am  max_wind_direction_9am  max_wind_speed_9am  \\\n",
              "0               0.060665                0.940699            0.058548   \n",
              "1               0.076528                0.393828            0.081931   \n",
              "2               0.716243                0.122838            0.729899   \n",
              "3               0.159391                0.643499            0.139747   \n",
              "4               0.050881                0.379809            0.058548   \n",
              "...                  ...                     ...                 ...   \n",
              "1085            0.138943                0.629721            0.140515   \n",
              "1086            0.048924                0.700671            0.041374   \n",
              "1087            0.103718                0.606777            0.094457   \n",
              "1088            0.136986                0.565478            0.124902   \n",
              "1089            0.112524                0.342393            0.113973   \n",
              "\n",
              "      rain_accumulation_9am  rain_duration_9am  relative_humidity_9am  \\\n",
              "0                  0.000000           0.000000               0.419854   \n",
              "1                  0.000000           0.000000               0.210779   \n",
              "2                  0.000000           0.001130               0.032474   \n",
              "3                  0.000000           0.000000               0.070485   \n",
              "4                  0.370525           0.832015               0.997573   \n",
              "...                     ...                ...                    ...   \n",
              "1085               0.000000           0.000000               0.230325   \n",
              "1086               0.000000           0.000000               0.973766   \n",
              "1087               0.000000           0.000000               0.456489   \n",
              "1088               0.000000           0.000000               0.678955   \n",
              "1089               0.000000           0.000000               0.097885   \n",
              "\n",
              "      relative_humidity_3pm  \n",
              "0                  0.354917  \n",
              "1                  0.162468  \n",
              "2                  0.105348  \n",
              "3                  0.085596  \n",
              "4                  0.821622  \n",
              "...                     ...  \n",
              "1085               0.378148  \n",
              "1086               0.782519  \n",
              "1087               0.540656  \n",
              "1088               0.609316  \n",
              "1089               0.112708  \n",
              "\n",
              "[1090 rows x 11 columns]"
            ],
            "text/html": [
              "\n",
              "  <div id=\"df-aa091ea1-8a0e-4320-922f-110978468395\">\n",
              "    <div class=\"colab-df-container\">\n",
              "      <div>\n",
              "<style scoped>\n",
              "    .dataframe tbody tr th:only-of-type {\n",
              "        vertical-align: middle;\n",
              "    }\n",
              "\n",
              "    .dataframe tbody tr th {\n",
              "        vertical-align: top;\n",
              "    }\n",
              "\n",
              "    .dataframe thead th {\n",
              "        text-align: right;\n",
              "    }\n",
              "</style>\n",
              "<table border=\"1\" class=\"dataframe\">\n",
              "  <thead>\n",
              "    <tr style=\"text-align: right;\">\n",
              "      <th></th>\n",
              "      <th>number</th>\n",
              "      <th>air_pressure_9am</th>\n",
              "      <th>air_temp_9am</th>\n",
              "      <th>avg_wind_direction_9am</th>\n",
              "      <th>avg_wind_speed_9am</th>\n",
              "      <th>max_wind_direction_9am</th>\n",
              "      <th>max_wind_speed_9am</th>\n",
              "      <th>rain_accumulation_9am</th>\n",
              "      <th>rain_duration_9am</th>\n",
              "      <th>relative_humidity_9am</th>\n",
              "      <th>relative_humidity_3pm</th>\n",
              "    </tr>\n",
              "  </thead>\n",
              "  <tbody>\n",
              "    <tr>\n",
              "      <th>0</th>\n",
              "      <td>0.000000</td>\n",
              "      <td>0.472105</td>\n",
              "      <td>0.612511</td>\n",
              "      <td>0.779506</td>\n",
              "      <td>0.060665</td>\n",
              "      <td>0.940699</td>\n",
              "      <td>0.058548</td>\n",
              "      <td>0.000000</td>\n",
              "      <td>0.000000</td>\n",
              "      <td>0.419854</td>\n",
              "      <td>0.354917</td>\n",
              "    </tr>\n",
              "    <tr>\n",
              "      <th>1</th>\n",
              "      <td>0.000914</td>\n",
              "      <td>0.438710</td>\n",
              "      <td>0.557516</td>\n",
              "      <td>0.263602</td>\n",
              "      <td>0.076528</td>\n",
              "      <td>0.393828</td>\n",
              "      <td>0.081931</td>\n",
              "      <td>0.000000</td>\n",
              "      <td>0.000000</td>\n",
              "      <td>0.210779</td>\n",
              "      <td>0.162468</td>\n",
              "    </tr>\n",
              "    <tr>\n",
              "      <th>2</th>\n",
              "      <td>0.001828</td>\n",
              "      <td>0.705579</td>\n",
              "      <td>0.384304</td>\n",
              "      <td>0.108265</td>\n",
              "      <td>0.716243</td>\n",
              "      <td>0.122838</td>\n",
              "      <td>0.729899</td>\n",
              "      <td>0.000000</td>\n",
              "      <td>0.001130</td>\n",
              "      <td>0.032474</td>\n",
              "      <td>0.105348</td>\n",
              "    </tr>\n",
              "    <tr>\n",
              "      <th>3</th>\n",
              "      <td>0.002742</td>\n",
              "      <td>0.586627</td>\n",
              "      <td>0.537164</td>\n",
              "      <td>0.559110</td>\n",
              "      <td>0.159391</td>\n",
              "      <td>0.643499</td>\n",
              "      <td>0.139747</td>\n",
              "      <td>0.000000</td>\n",
              "      <td>0.000000</td>\n",
              "      <td>0.070485</td>\n",
              "      <td>0.085596</td>\n",
              "    </tr>\n",
              "    <tr>\n",
              "      <th>4</th>\n",
              "      <td>0.003656</td>\n",
              "      <td>0.617440</td>\n",
              "      <td>0.121344</td>\n",
              "      <td>0.799939</td>\n",
              "      <td>0.050881</td>\n",
              "      <td>0.379809</td>\n",
              "      <td>0.058548</td>\n",
              "      <td>0.370525</td>\n",
              "      <td>0.832015</td>\n",
              "      <td>0.997573</td>\n",
              "      <td>0.821622</td>\n",
              "    </tr>\n",
              "    <tr>\n",
              "      <th>...</th>\n",
              "      <td>...</td>\n",
              "      <td>...</td>\n",
              "      <td>...</td>\n",
              "      <td>...</td>\n",
              "      <td>...</td>\n",
              "      <td>...</td>\n",
              "      <td>...</td>\n",
              "      <td>...</td>\n",
              "      <td>...</td>\n",
              "      <td>...</td>\n",
              "      <td>...</td>\n",
              "    </tr>\n",
              "    <tr>\n",
              "      <th>1085</th>\n",
              "      <td>0.996344</td>\n",
              "      <td>0.511486</td>\n",
              "      <td>0.423979</td>\n",
              "      <td>0.541019</td>\n",
              "      <td>0.138943</td>\n",
              "      <td>0.629721</td>\n",
              "      <td>0.140515</td>\n",
              "      <td>0.000000</td>\n",
              "      <td>0.000000</td>\n",
              "      <td>0.230325</td>\n",
              "      <td>0.378148</td>\n",
              "    </tr>\n",
              "    <tr>\n",
              "      <th>1086</th>\n",
              "      <td>0.997258</td>\n",
              "      <td>0.502579</td>\n",
              "      <td>0.206198</td>\n",
              "      <td>0.689539</td>\n",
              "      <td>0.048924</td>\n",
              "      <td>0.700671</td>\n",
              "      <td>0.041374</td>\n",
              "      <td>0.000000</td>\n",
              "      <td>0.000000</td>\n",
              "      <td>0.973766</td>\n",
              "      <td>0.782519</td>\n",
              "    </tr>\n",
              "    <tr>\n",
              "      <th>1087</th>\n",
              "      <td>0.998172</td>\n",
              "      <td>0.403657</td>\n",
              "      <td>0.552563</td>\n",
              "      <td>0.530040</td>\n",
              "      <td>0.103718</td>\n",
              "      <td>0.606777</td>\n",
              "      <td>0.094457</td>\n",
              "      <td>0.000000</td>\n",
              "      <td>0.000000</td>\n",
              "      <td>0.456489</td>\n",
              "      <td>0.540656</td>\n",
              "    </tr>\n",
              "    <tr>\n",
              "      <th>1088</th>\n",
              "      <td>0.999086</td>\n",
              "      <td>0.216128</td>\n",
              "      <td>0.348393</td>\n",
              "      <td>0.479414</td>\n",
              "      <td>0.136986</td>\n",
              "      <td>0.565478</td>\n",
              "      <td>0.124902</td>\n",
              "      <td>0.000000</td>\n",
              "      <td>0.000000</td>\n",
              "      <td>0.678955</td>\n",
              "      <td>0.609316</td>\n",
              "    </tr>\n",
              "    <tr>\n",
              "      <th>1089</th>\n",
              "      <td>1.000000</td>\n",
              "      <td>0.634787</td>\n",
              "      <td>0.658847</td>\n",
              "      <td>0.248856</td>\n",
              "      <td>0.112524</td>\n",
              "      <td>0.342393</td>\n",
              "      <td>0.113973</td>\n",
              "      <td>0.000000</td>\n",
              "      <td>0.000000</td>\n",
              "      <td>0.097885</td>\n",
              "      <td>0.112708</td>\n",
              "    </tr>\n",
              "  </tbody>\n",
              "</table>\n",
              "<p>1090 rows × 11 columns</p>\n",
              "</div>\n",
              "      <button class=\"colab-df-convert\" onclick=\"convertToInteractive('df-aa091ea1-8a0e-4320-922f-110978468395')\"\n",
              "              title=\"Convert this dataframe to an interactive table.\"\n",
              "              style=\"display:none;\">\n",
              "        \n",
              "  <svg xmlns=\"http://www.w3.org/2000/svg\" height=\"24px\"viewBox=\"0 0 24 24\"\n",
              "       width=\"24px\">\n",
              "    <path d=\"M0 0h24v24H0V0z\" fill=\"none\"/>\n",
              "    <path d=\"M18.56 5.44l.94 2.06.94-2.06 2.06-.94-2.06-.94-.94-2.06-.94 2.06-2.06.94zm-11 1L8.5 8.5l.94-2.06 2.06-.94-2.06-.94L8.5 2.5l-.94 2.06-2.06.94zm10 10l.94 2.06.94-2.06 2.06-.94-2.06-.94-.94-2.06-.94 2.06-2.06.94z\"/><path d=\"M17.41 7.96l-1.37-1.37c-.4-.4-.92-.59-1.43-.59-.52 0-1.04.2-1.43.59L10.3 9.45l-7.72 7.72c-.78.78-.78 2.05 0 2.83L4 21.41c.39.39.9.59 1.41.59.51 0 1.02-.2 1.41-.59l7.78-7.78 2.81-2.81c.8-.78.8-2.07 0-2.86zM5.41 20L4 18.59l7.72-7.72 1.47 1.35L5.41 20z\"/>\n",
              "  </svg>\n",
              "      </button>\n",
              "      \n",
              "  <style>\n",
              "    .colab-df-container {\n",
              "      display:flex;\n",
              "      flex-wrap:wrap;\n",
              "      gap: 12px;\n",
              "    }\n",
              "\n",
              "    .colab-df-convert {\n",
              "      background-color: #E8F0FE;\n",
              "      border: none;\n",
              "      border-radius: 50%;\n",
              "      cursor: pointer;\n",
              "      display: none;\n",
              "      fill: #1967D2;\n",
              "      height: 32px;\n",
              "      padding: 0 0 0 0;\n",
              "      width: 32px;\n",
              "    }\n",
              "\n",
              "    .colab-df-convert:hover {\n",
              "      background-color: #E2EBFA;\n",
              "      box-shadow: 0px 1px 2px rgba(60, 64, 67, 0.3), 0px 1px 3px 1px rgba(60, 64, 67, 0.15);\n",
              "      fill: #174EA6;\n",
              "    }\n",
              "\n",
              "    [theme=dark] .colab-df-convert {\n",
              "      background-color: #3B4455;\n",
              "      fill: #D2E3FC;\n",
              "    }\n",
              "\n",
              "    [theme=dark] .colab-df-convert:hover {\n",
              "      background-color: #434B5C;\n",
              "      box-shadow: 0px 1px 3px 1px rgba(0, 0, 0, 0.15);\n",
              "      filter: drop-shadow(0px 1px 2px rgba(0, 0, 0, 0.3));\n",
              "      fill: #FFFFFF;\n",
              "    }\n",
              "  </style>\n",
              "\n",
              "      <script>\n",
              "        const buttonEl =\n",
              "          document.querySelector('#df-aa091ea1-8a0e-4320-922f-110978468395 button.colab-df-convert');\n",
              "        buttonEl.style.display =\n",
              "          google.colab.kernel.accessAllowed ? 'block' : 'none';\n",
              "\n",
              "        async function convertToInteractive(key) {\n",
              "          const element = document.querySelector('#df-aa091ea1-8a0e-4320-922f-110978468395');\n",
              "          const dataTable =\n",
              "            await google.colab.kernel.invokeFunction('convertToInteractive',\n",
              "                                                     [key], {});\n",
              "          if (!dataTable) return;\n",
              "\n",
              "          const docLinkHtml = 'Like what you see? Visit the ' +\n",
              "            '<a target=\"_blank\" href=https://colab.research.google.com/notebooks/data_table.ipynb>data table notebook</a>'\n",
              "            + ' to learn more about interactive tables.';\n",
              "          element.innerHTML = '';\n",
              "          dataTable['output_type'] = 'display_data';\n",
              "          await google.colab.output.renderOutput(dataTable, element);\n",
              "          const docLink = document.createElement('div');\n",
              "          docLink.innerHTML = docLinkHtml;\n",
              "          element.appendChild(docLink);\n",
              "        }\n",
              "      </script>\n",
              "    </div>\n",
              "  </div>\n",
              "  "
            ]
          },
          "metadata": {},
          "execution_count": 85
        }
      ]
    },
    {
      "cell_type": "code",
      "source": [
        "plt.boxplot(x=df_norm['relative_humidity_9am'])"
      ],
      "metadata": {
        "colab": {
          "base_uri": "https://localhost:8080/",
          "height": 404
        },
        "id": "T3cICoLIGLmF",
        "outputId": "387b4c96-fea3-4f16-9937-87cbcd031072"
      },
      "execution_count": 88,
      "outputs": [
        {
          "output_type": "execute_result",
          "data": {
            "text/plain": [
              "{'whiskers': [<matplotlib.lines.Line2D at 0x7fc331c0ae90>,\n",
              "  <matplotlib.lines.Line2D at 0x7fc331bf1f90>],\n",
              " 'caps': [<matplotlib.lines.Line2D at 0x7fc331bf1d10>,\n",
              "  <matplotlib.lines.Line2D at 0x7fc331bf1990>],\n",
              " 'boxes': [<matplotlib.lines.Line2D at 0x7fc331c0ac50>],\n",
              " 'medians': [<matplotlib.lines.Line2D at 0x7fc331b97450>],\n",
              " 'fliers': [<matplotlib.lines.Line2D at 0x7fc331b97810>],\n",
              " 'means': []}"
            ]
          },
          "metadata": {},
          "execution_count": 88
        },
        {
          "output_type": "display_data",
          "data": {
            "text/plain": [
              "<Figure size 432x288 with 1 Axes>"
            ],
            "image/png": "[encoded data removed]"
          },
          "metadata": {
            "needs_background": "light"
          }
        }
      ]
    },
    {
      "cell_type": "code",
      "source": [
        "plt.xlabel(\"air_pressure_9am\")\n",
        "plt.ylabel(\"rain_duration_9am\")\n",
        "plt.scatter(x=df_norm['air_pressure_9am'], y=df_norm[\"rain_duration_9am\"])"
      ],
      "metadata": {
        "colab": {
          "base_uri": "https://localhost:8080/",
          "height": 297
        },
        "id": "VqgF_Z-rGQP7",
        "outputId": "6ca295b5-7fac-4d15-9a08-0b0850c9ce2e"
      },
      "execution_count": 89,
      "outputs": [
        {
          "output_type": "execute_result",
          "data": {
            "text/plain": [
              "<matplotlib.collections.PathCollection at 0x7fc331d579d0>"
            ]
          },
          "metadata": {},
          "execution_count": 89
        },
        {
          "output_type": "display_data",
          "data": {
            "text/plain": [
              "<Figure size 432x288 with 1 Axes>"
            ],
            "image/png": "[encoded data removed]"
          },
          "metadata": {
            "needs_background": "light"
          }
        }
      ]
    },
    {
      "cell_type": "code",
      "source": [
        "ax = df_norm.plot(y='air_pressure_9am', x='rain_duration_9am', kind='kde', figsize=(10, 6))\n",
        "arr = ax.get_children()[0]._x\n",
        "plt.xticks(np.linspace(arr[0], arr[-1]), rotation=90)\n",
        "plt.show()"
      ],
      "metadata": {
        "colab": {
          "base_uri": "https://localhost:8080/",
          "height": 404
        },
        "id": "g7MVtYUcGWYF",
        "outputId": "650c7fe3-7004-4765-e67c-fa7692178104"
      },
      "execution_count": 90,
      "outputs": [
        {
          "output_type": "display_data",
          "data": {
            "text/plain": [
              "<Figure size 720x432 with 1 Axes>"
            ],
            "image/png": "[encoded data removed]"
          },
          "metadata": {
            "needs_background": "light"
          }
        }
      ]
    }
  ]
}
